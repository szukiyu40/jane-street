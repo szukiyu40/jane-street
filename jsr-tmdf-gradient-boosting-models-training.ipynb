{
 "cells": [
  {
   "cell_type": "markdown",
   "id": "3589596c",
   "metadata": {
    "papermill": {
     "duration": 0.004261,
     "end_time": "2024-10-15T08:42:02.797488",
     "exception": false,
     "start_time": "2024-10-15T08:42:02.793227",
     "status": "completed"
    },
    "tags": []
   },
   "source": [
    "# Overview\n",
    "This repository provides code implementation for training Gradient Boosting Models (GBMs), a popular machine learning technique for both classification and regression tasks. GBMs are ensemble methods that combine the predictions of several base estimators to improve accuracy and generalization performance.\n",
    "\n"
   ]
  },
  {
   "cell_type": "markdown",
   "id": "61aa892a",
   "metadata": {
    "papermill": {
     "duration": 0.003527,
     "end_time": "2024-10-15T08:42:02.805100",
     "exception": false,
     "start_time": "2024-10-15T08:42:02.801573",
     "status": "completed"
    },
    "tags": []
   },
   "source": [
    "# Inference\n",
    "[[JSR-TMDF] Gradient Boosting Models (Inference)](https://www.kaggle.com/code/takaito/jsr-tmdf-gradient-boosting-models-inference)"
   ]
  },
  {
   "cell_type": "markdown",
   "id": "c9927215",
   "metadata": {
    "papermill": {
     "duration": 0.003382,
     "end_time": "2024-10-15T08:42:02.812142",
     "exception": false,
     "start_time": "2024-10-15T08:42:02.808760",
     "status": "completed"
    },
    "tags": []
   },
   "source": [
    "# Tips\n",
    "## 1. CV Strategy\n",
    "By setting kfold = KFold(n_splits=CFG.N_SPLIT, shuffle=False), the data is being loaded in chronological order, so the splitting is performed based on the time series.\n",
    "\n",
    "## 2. feature importance\n",
    "In LightGBM, we save the feature importance. This allows you to check which features are effective and can provide insights for removing unnecessary features or creating new ones, so please make use of it."
   ]
  },
  {
   "cell_type": "markdown",
   "id": "3ba9f564",
   "metadata": {
    "papermill": {
     "duration": 0.00348,
     "end_time": "2024-10-15T08:42:02.819211",
     "exception": false,
     "start_time": "2024-10-15T08:42:02.815731",
     "status": "completed"
    },
    "tags": []
   },
   "source": [
    "To be updated!! (I plan to add more hints if the number of votes increases.)"
   ]
  },
  {
   "cell_type": "code",
   "execution_count": null,
   "id": "ae8fe480",
   "metadata": {
    "papermill": {
     "duration": 0.003334,
     "end_time": "2024-10-15T08:42:02.826212",
     "exception": false,
     "start_time": "2024-10-15T08:42:02.822878",
     "status": "completed"
    },
    "tags": []
   },
   "outputs": [],
   "source": []
  },
  {
   "cell_type": "code",
   "execution_count": 1,
   "id": "3621b287",
   "metadata": {
    "execution": {
     "iopub.execute_input": "2024-10-15T08:42:02.835070Z",
     "iopub.status.busy": "2024-10-15T08:42:02.834660Z",
     "iopub.status.idle": "2024-10-15T08:42:09.830885Z",
     "shell.execute_reply": "2024-10-15T08:42:09.829848Z"
    },
    "papermill": {
     "duration": 7.003569,
     "end_time": "2024-10-15T08:42:09.833392",
     "exception": false,
     "start_time": "2024-10-15T08:42:02.829823",
     "status": "completed"
    },
    "tags": []
   },
   "outputs": [],
   "source": [
    "# ====================================================\n",
    "# Library\n",
    "# ====================================================\n",
    "import os\n",
    "import gc\n",
    "import warnings\n",
    "warnings.filterwarnings('ignore')\n",
    "import random\n",
    "import scipy as sp\n",
    "import numpy as np\n",
    "import pandas as pd\n",
    "import polars as pl\n",
    "from glob import glob\n",
    "from pathlib import Path\n",
    "import joblib\n",
    "import pickle\n",
    "import itertools\n",
    "from tqdm.auto import tqdm\n",
    "import glob\n",
    "\n",
    "import torch\n",
    "from sklearn.model_selection import KFold, StratifiedKFold, train_test_split, GroupKFold\n",
    "from sklearn.metrics import log_loss, roc_auc_score, matthews_corrcoef, f1_score\n",
    "from sklearn.metrics import mean_squared_error, r2_score\n",
    "from sklearn.preprocessing import LabelEncoder\n",
    "import lightgbm as lgb\n",
    "import xgboost as xgb\n",
    "from catboost import Pool, CatBoostRegressor, CatBoostClassifier"
   ]
  },
  {
   "cell_type": "code",
   "execution_count": 2,
   "id": "ab896427",
   "metadata": {
    "execution": {
     "iopub.execute_input": "2024-10-15T08:42:09.843718Z",
     "iopub.status.busy": "2024-10-15T08:42:09.842442Z",
     "iopub.status.idle": "2024-10-15T08:42:11.952299Z",
     "shell.execute_reply": "2024-10-15T08:42:11.950926Z"
    },
    "papermill": {
     "duration": 2.117677,
     "end_time": "2024-10-15T08:42:11.955010",
     "exception": false,
     "start_time": "2024-10-15T08:42:09.837333",
     "status": "completed"
    },
    "tags": []
   },
   "outputs": [
    {
     "name": "stdout",
     "output_type": "stream",
     "text": [
      "mkdir: cannot create directory ‘oof’: File exists\n",
      "mkdir: cannot create directory ‘models’: File exists\n"
     ]
    }
   ],
   "source": [
    "!mkdir oof\n",
    "!mkdir models"
   ]
  },
  {
   "cell_type": "code",
   "execution_count": 3,
   "id": "78ba2154",
   "metadata": {
    "execution": {
     "iopub.execute_input": "2024-10-15T08:42:11.966615Z",
     "iopub.status.busy": "2024-10-15T08:42:11.965662Z",
     "iopub.status.idle": "2024-10-15T08:42:11.975494Z",
     "shell.execute_reply": "2024-10-15T08:42:11.974146Z"
    },
    "papermill": {
     "duration": 0.01881,
     "end_time": "2024-10-15T08:42:11.978030",
     "exception": false,
     "start_time": "2024-10-15T08:42:11.959220",
     "status": "completed"
    },
    "tags": []
   },
   "outputs": [],
   "source": [
    "# ====================================================\n",
    "# Configurations\n",
    "# ====================================================\n",
    "class CFG:\n",
    "    VER = 2\n",
    "    AUTHOR = 'szukiyu'\n",
    "    COMPETITION = 'jane-street-real-time-market-data-forecasting'\n",
    "    DATA_PATH = Path('/home/ec2-user/jane_street/data')\n",
    "    OOF_DATA_PATH = Path('./oof')\n",
    "    MODEL_DATA_PATH = Path('./models')\n",
    "    METHOD_LIST = ['lightgbm', 'xgboost', 'catboost']\n",
    "    USE_GPU = torch.cuda.is_available()\n",
    "    SEED = 42\n",
    "    N_SPLIT = 5\n",
    "    target_col = 'responder_6'\n",
    "    metric = 'r2_score'\n",
    "    metric_maximize_flag = True\n",
    "\n",
    "    num_boost_round = 2500\n",
    "    early_stopping_round = 10\n",
    "    verbose = 50\n",
    "    \n",
    "    regression_lgb_params = {\n",
    "        'objective': 'regression',\n",
    "        'metric': 'rmse', \n",
    "        'learning_rate': 0.05,\n",
    "        'num_leaves': 31,\n",
    "        'seed': SEED,\n",
    "    }\n",
    "    regression_xgb_params = {\n",
    "        'objective': 'reg:squarederror',\n",
    "        'eval_metric': 'rmse',\n",
    "        'learning_rate': 0.05, \n",
    "        'max_depth': 7,\n",
    "        'random_state': SEED,\n",
    "    }\n",
    "    \n",
    "    regression_cat_params = {\n",
    "        'loss_function': 'RMSE',\n",
    "        'learning_rate': 0.05, \n",
    "        'iterations': num_boost_round, \n",
    "        'depth': 7, \n",
    "        'random_seed': SEED,\n",
    "    }\n",
    "    target_col = \"responder_6\"\n",
    "    feature_cols = [\"symbol_id\", \"time_id\"] + [f\"feature_{idx:02d}\" for idx in range(79)]+ [f\"responder_{idx}_lag_1\" for idx in range(9)]\n",
    "    all_cols =  [\"date_id\",\"time_id\", \"symbol_id\", \"weight\"] + [f\"feature_{idx:02d}\" for idx in range(79)]+ [f\"responder_{idx}_lag_1\" for idx in range(9)] + [target_col]\n",
    "\n",
    "    data_paths = [\n",
    "        DATA_PATH / \"training.parquet/\",\n",
    "    ]"
   ]
  },
  {
   "cell_type": "code",
   "execution_count": 4,
   "id": "46d2acd2",
   "metadata": {
    "execution": {
     "iopub.execute_input": "2024-10-15T08:42:11.987885Z",
     "iopub.status.busy": "2024-10-15T08:42:11.987427Z",
     "iopub.status.idle": "2024-10-15T08:42:11.993347Z",
     "shell.execute_reply": "2024-10-15T08:42:11.992328Z"
    },
    "papermill": {
     "duration": 0.013344,
     "end_time": "2024-10-15T08:42:11.995404",
     "exception": false,
     "start_time": "2024-10-15T08:42:11.982060",
     "status": "completed"
    },
    "tags": []
   },
   "outputs": [],
   "source": [
    "# ====================================================\n",
    "# Seed everything\n",
    "# ====================================================\n",
    "def seed_everything(seed):\n",
    "    random.seed(seed)\n",
    "    np.random.seed(seed)\n",
    "    os.environ['PYTHONHASHSEED'] = str(seed)\n",
    "seed_everything(CFG.SEED)"
   ]
  },
  {
   "cell_type": "code",
   "execution_count": 5,
   "id": "954878e5",
   "metadata": {
    "execution": {
     "iopub.execute_input": "2024-10-15T08:42:12.005307Z",
     "iopub.status.busy": "2024-10-15T08:42:12.004565Z",
     "iopub.status.idle": "2024-10-15T08:42:12.023380Z",
     "shell.execute_reply": "2024-10-15T08:42:12.022286Z"
    },
    "papermill": {
     "duration": 0.026326,
     "end_time": "2024-10-15T08:42:12.025560",
     "exception": false,
     "start_time": "2024-10-15T08:42:11.999234",
     "status": "completed"
    },
    "tags": []
   },
   "outputs": [],
   "source": [
    "def lightgbm_training(x_train: pd.DataFrame, y_train: pd.DataFrame, x_valid: pd.DataFrame, y_valid: pd.DataFrame):\n",
    "    lgb_train = lgb.Dataset(x_train, y_train)\n",
    "    lgb_valid = lgb.Dataset(x_valid, y_valid)\n",
    "    \n",
    "    model = lgb.train(\n",
    "                params = CFG.regression_lgb_params,\n",
    "                train_set = lgb_train,\n",
    "                num_boost_round = CFG.num_boost_round,\n",
    "                valid_sets = [lgb_train, lgb_valid],\n",
    "                callbacks=[lgb.early_stopping(stopping_rounds=CFG.early_stopping_round, verbose=CFG.verbose),\n",
    "                           lgb.log_evaluation(CFG.verbose),\n",
    "                          ]\n",
    "            )\n",
    "    # Predict validation\n",
    "    valid_pred = model.predict(x_valid)\n",
    "    return model, valid_pred\n",
    "def xgboost_training(x_train: pd.DataFrame, y_train: pd.DataFrame, x_valid: pd.DataFrame, y_valid: pd.DataFrame):\n",
    "    xgb_train = xgb.DMatrix(data=x_train, label=y_train)\n",
    "    xgb_valid = xgb.DMatrix(data=x_valid, label=y_valid)\n",
    "    model = xgb.train(\n",
    "                CFG.regression_xgb_params,\n",
    "                dtrain = xgb_train,\n",
    "                num_boost_round = CFG.num_boost_round,\n",
    "                evals = [(xgb_train, 'train'), (xgb_valid, 'eval')],\n",
    "                early_stopping_rounds = CFG.early_stopping_round,\n",
    "                verbose_eval = CFG.verbose\n",
    "            )\n",
    "    # Predict validation\n",
    "    valid_pred = model.predict(xgb.DMatrix(x_valid))\n",
    "    return model, valid_pred\n",
    "def catboost_training(x_train: pd.DataFrame, y_train: pd.DataFrame, x_valid: pd.DataFrame, y_valid: pd.DataFrame):\n",
    "    cat_train = Pool(data=x_train, label=y_train)\n",
    "    cat_valid = Pool(data=x_valid, label=y_valid)\n",
    "    model = CatBoostRegressor(**CFG.regression_cat_params)\n",
    "    model.fit(cat_train,\n",
    "              eval_set = [cat_valid],\n",
    "              early_stopping_rounds = CFG.early_stopping_round,\n",
    "              verbose = CFG.verbose,\n",
    "              use_best_model = True)\n",
    "    # Predict validation\n",
    "    valid_pred = model.predict(x_valid)\n",
    "    return model, valid_pred\n",
    "\n",
    "def gradient_boosting_model_cv_training(method: str, train_df: pd.DataFrame, features: list):\n",
    "    # Create a numpy array to store out of folds predictions\n",
    "    oof_predictions = np.zeros(len(train_df))\n",
    "    oof_fold = np.zeros(len(train_df))\n",
    "    ## 1. CV Strategy\n",
    "    kfold = KFold(n_splits=CFG.N_SPLIT, shuffle=False) # , shuffle=True, random_state=CFG.SEED)\n",
    "    for fold, (train_index, valid_index) in enumerate(kfold.split(X=train_df[features], y=train_df[CFG.target_col])):\n",
    "        print('-'*50)\n",
    "        print(f'{method} training fold {fold+1}')\n",
    "\n",
    "        x_train = train_df[features].iloc[train_index]\n",
    "        y_train = train_df[CFG.target_col].iloc[train_index]\n",
    "        x_valid = train_df[features].iloc[valid_index]\n",
    "        y_valid = train_df[CFG.target_col].iloc[valid_index]\n",
    "        if method == 'lightgbm':\n",
    "            model, valid_pred = lightgbm_training(x_train, y_train, x_valid, y_valid)\n",
    "            ## 2. feature importance\n",
    "            importance_df = pd.DataFrame(model.feature_importance(), index=features, columns=['importance']).reset_index()\n",
    "            importance_df.to_csv(CFG.MODEL_DATA_PATH / f'{method}_fold{fold + 1}_seed{CFG.SEED}_ver{CFG.VER}_importance.csv', index=False)\n",
    "        if method == 'xgboost':\n",
    "            model, valid_pred = xgboost_training(x_train, y_train, x_valid, y_valid)\n",
    "        if method == 'catboost':\n",
    "            model, valid_pred = catboost_training(x_train, y_train, x_valid, y_valid)\n",
    "\n",
    "        # Save best model\n",
    "        pickle.dump(model, open(CFG.MODEL_DATA_PATH / f'{method}_fold{fold + 1}_seed{CFG.SEED}_ver{CFG.VER}.pkl', 'wb'))\n",
    "        # Add to out of folds array\n",
    "        oof_predictions[valid_index] = valid_pred\n",
    "        oof_fold[valid_index] = fold + 1\n",
    "        del x_train, x_valid, y_train, y_valid, model, valid_pred\n",
    "        gc.collect()\n",
    "\n",
    "    # Compute out of folds metric\n",
    "    score = r2_score(train_df[CFG.target_col], oof_predictions, sample_weight=train_df['weight'])\n",
    "    print(f'{method} our out of folds CV {CFG.metric} is {score}')\n",
    "    # Create a dataframe to store out of folds predictions\n",
    "    oof_df = pd.DataFrame({CFG.target_col: train_df[CFG.target_col], f'{method}_prediction': oof_predictions, 'fold': oof_fold})\n",
    "    oof_df.to_csv(CFG.OOF_DATA_PATH / f'oof_{method}_seed{CFG.SEED}_ver{CFG.VER}.csv', index = False)"
   ]
  },
  {
   "cell_type": "code",
   "execution_count": 6,
   "id": "7cb3a832",
   "metadata": {
    "execution": {
     "iopub.execute_input": "2024-10-15T08:42:12.035346Z",
     "iopub.status.busy": "2024-10-15T08:42:12.034291Z",
     "iopub.status.idle": "2024-10-15T08:42:12.040284Z",
     "shell.execute_reply": "2024-10-15T08:42:12.039409Z"
    },
    "papermill": {
     "duration": 0.012943,
     "end_time": "2024-10-15T08:42:12.042330",
     "exception": false,
     "start_time": "2024-10-15T08:42:12.029387",
     "status": "completed"
    },
    "tags": []
   },
   "outputs": [],
   "source": [
    "def read_train_data():\n",
    "    all_files = []\n",
    "    for path in CFG.data_paths:\n",
    "        all_files.extend(glob.glob(os.path.join(path, \"*/*parquet\")))\n",
    "\n",
    "    pl_train = pl.concat([pl.read_parquet(_f, columns=CFG.all_cols) for _f in all_files])\n",
    "    return pl_train\n"
   ]
  },
  {
   "cell_type": "code",
   "execution_count": 7,
   "id": "da70f95d",
   "metadata": {
    "execution": {
     "iopub.execute_input": "2024-10-15T08:42:12.053036Z",
     "iopub.status.busy": "2024-10-15T08:42:12.052011Z",
     "iopub.status.idle": "2024-10-15T08:42:12.057490Z",
     "shell.execute_reply": "2024-10-15T08:42:12.056462Z"
    },
    "papermill": {
     "duration": 0.012591,
     "end_time": "2024-10-15T08:42:12.059608",
     "exception": false,
     "start_time": "2024-10-15T08:42:12.047017",
     "status": "completed"
    },
    "tags": []
   },
   "outputs": [],
   "source": [
    "#original_features = ['feature_' + str(x).zfill(2) for x in range(78+1)]"
   ]
  },
  {
   "cell_type": "code",
   "execution_count": 8,
   "id": "25fe347e",
   "metadata": {
    "execution": {
     "iopub.execute_input": "2024-10-15T08:42:12.069289Z",
     "iopub.status.busy": "2024-10-15T08:42:12.068523Z",
     "iopub.status.idle": "2024-10-15T08:42:59.580973Z",
     "shell.execute_reply": "2024-10-15T08:42:59.579951Z"
    },
    "papermill": {
     "duration": 47.520111,
     "end_time": "2024-10-15T08:42:59.583650",
     "exception": false,
     "start_time": "2024-10-15T08:42:12.063539",
     "status": "completed"
    },
    "tags": []
   },
   "outputs": [],
   "source": [
    "train_pl_df = read_train_data()"
   ]
  },
  {
   "cell_type": "code",
   "execution_count": 9,
   "id": "3752c560",
   "metadata": {
    "execution": {
     "iopub.execute_input": "2024-10-15T08:42:59.593364Z",
     "iopub.status.busy": "2024-10-15T08:42:59.592977Z",
     "iopub.status.idle": "2024-10-15T08:43:49.976283Z",
     "shell.execute_reply": "2024-10-15T08:43:49.974923Z"
    },
    "papermill": {
     "duration": 50.391024,
     "end_time": "2024-10-15T08:43:49.978764",
     "exception": false,
     "start_time": "2024-10-15T08:42:59.587740",
     "status": "completed"
    },
    "tags": []
   },
   "outputs": [
    {
     "name": "stdout",
     "output_type": "stream",
     "text": [
      "--------------------------------------------------\n",
      "lightgbm training fold 1\n",
      "[LightGBM] [Info] Auto-choosing col-wise multi-threading, the overhead of testing was 1.882583 seconds.\n",
      "You can set `force_col_wise=true` to remove the overhead.\n",
      "[LightGBM] [Info] Total Bins 22028\n",
      "[LightGBM] [Info] Number of data points in the train set: 16817644, number of used features: 90\n",
      "[LightGBM] [Info] Start training from score -0.001492\n",
      "Training until validation scores don't improve for 10 rounds\n",
      "[50]\ttraining's rmse: 0.86144\tvalid_1's rmse: 0.848561\n",
      "[100]\ttraining's rmse: 0.857331\tvalid_1's rmse: 0.847805\n",
      "[150]\ttraining's rmse: 0.85471\tvalid_1's rmse: 0.847543\n",
      "Early stopping, best iteration is:\n",
      "[158]\ttraining's rmse: 0.854405\tvalid_1's rmse: 0.847501\n",
      "--------------------------------------------------\n",
      "lightgbm training fold 2\n",
      "[LightGBM] [Info] Auto-choosing col-wise multi-threading, the overhead of testing was 1.789484 seconds.\n",
      "You can set `force_col_wise=true` to remove the overhead.\n",
      "[LightGBM] [Info] Total Bins 22028\n",
      "[LightGBM] [Info] Number of data points in the train set: 16817645, number of used features: 90\n",
      "[LightGBM] [Info] Start training from score -0.001329\n",
      "Training until validation scores don't improve for 10 rounds\n",
      "[50]\ttraining's rmse: 0.852694\tvalid_1's rmse: 0.881864\n",
      "[100]\ttraining's rmse: 0.849049\tvalid_1's rmse: 0.880847\n",
      "Early stopping, best iteration is:\n",
      "[100]\ttraining's rmse: 0.849049\tvalid_1's rmse: 0.880847\n",
      "--------------------------------------------------\n",
      "lightgbm training fold 3\n",
      "[LightGBM] [Info] Auto-choosing col-wise multi-threading, the overhead of testing was 1.793360 seconds.\n",
      "You can set `force_col_wise=true` to remove the overhead.\n",
      "[LightGBM] [Info] Total Bins 22028\n",
      "[LightGBM] [Info] Number of data points in the train set: 16817645, number of used features: 90\n",
      "[LightGBM] [Info] Start training from score 0.000449\n",
      "Training until validation scores don't improve for 10 rounds\n",
      "[50]\ttraining's rmse: 0.866825\tvalid_1's rmse: 0.827351\n",
      "[100]\ttraining's rmse: 0.863165\tvalid_1's rmse: 0.826387\n",
      "[150]\ttraining's rmse: 0.86074\tvalid_1's rmse: 0.825953\n",
      "Early stopping, best iteration is:\n",
      "[157]\ttraining's rmse: 0.860466\tvalid_1's rmse: 0.825906\n",
      "--------------------------------------------------\n",
      "lightgbm training fold 4\n",
      "[LightGBM] [Info] Auto-choosing col-wise multi-threading, the overhead of testing was 1.913904 seconds.\n",
      "You can set `force_col_wise=true` to remove the overhead.\n",
      "[LightGBM] [Info] Total Bins 22026\n",
      "[LightGBM] [Info] Number of data points in the train set: 16817645, number of used features: 90\n",
      "[LightGBM] [Info] Start training from score -0.001377\n",
      "Training until validation scores don't improve for 10 rounds\n",
      "[50]\ttraining's rmse: 0.848213\tvalid_1's rmse: 0.901797\n",
      "[100]\ttraining's rmse: 0.845595\tvalid_1's rmse: 0.900889\n",
      "[150]\ttraining's rmse: 0.84353\tvalid_1's rmse: 0.900434\n",
      "[200]\ttraining's rmse: 0.841684\tvalid_1's rmse: 0.90013\n",
      "[250]\ttraining's rmse: 0.840084\tvalid_1's rmse: 0.899887\n",
      "[300]\ttraining's rmse: 0.838709\tvalid_1's rmse: 0.89975\n",
      "Early stopping, best iteration is:\n",
      "[307]\ttraining's rmse: 0.838511\tvalid_1's rmse: 0.899728\n",
      "--------------------------------------------------\n",
      "lightgbm training fold 5\n",
      "[LightGBM] [Info] Auto-choosing col-wise multi-threading, the overhead of testing was 2.163359 seconds.\n",
      "You can set `force_col_wise=true` to remove the overhead.\n",
      "[LightGBM] [Info] Total Bins 22028\n",
      "[LightGBM] [Info] Number of data points in the train set: 16817645, number of used features: 90\n",
      "[LightGBM] [Info] Start training from score -0.001522\n",
      "Training until validation scores don't improve for 10 rounds\n",
      "[50]\ttraining's rmse: 0.863185\tvalid_1's rmse: 0.838745\n",
      "[100]\ttraining's rmse: 0.859294\tvalid_1's rmse: 0.837927\n",
      "[150]\ttraining's rmse: 0.855911\tvalid_1's rmse: 0.837655\n",
      "[200]\ttraining's rmse: 0.853902\tvalid_1's rmse: 0.837429\n",
      "[250]\ttraining's rmse: 0.852138\tvalid_1's rmse: 0.837324\n",
      "[300]\ttraining's rmse: 0.850488\tvalid_1's rmse: 0.837259\n",
      "Early stopping, best iteration is:\n",
      "[293]\ttraining's rmse: 0.850758\tvalid_1's rmse: 0.837231\n",
      "lightgbm our out of folds CV r2_score is 0.01347991404922333\n",
      "--------------------------------------------------\n",
      "xgboost training fold 1\n",
      "[0]\ttrain-rmse:0.86665\teval-rmse:0.85231\n",
      "[50]\ttrain-rmse:0.85858\teval-rmse:0.84793\n",
      "[100]\ttrain-rmse:0.85315\teval-rmse:0.84713\n",
      "[150]\ttrain-rmse:0.84872\teval-rmse:0.84684\n",
      "[189]\ttrain-rmse:0.84574\teval-rmse:0.84676\n",
      "--------------------------------------------------\n",
      "xgboost training fold 2\n",
      "[0]\ttrain-rmse:0.85819\teval-rmse:0.88590\n",
      "[50]\ttrain-rmse:0.85031\teval-rmse:0.88098\n",
      "[100]\ttrain-rmse:0.84493\teval-rmse:0.88012\n",
      "[117]\ttrain-rmse:0.84324\teval-rmse:0.88010\n",
      "--------------------------------------------------\n",
      "xgboost training fold 3\n",
      "[0]\ttrain-rmse:0.87170\teval-rmse:0.83147\n",
      "[50]\ttrain-rmse:0.86390\teval-rmse:0.82651\n",
      "[100]\ttrain-rmse:0.85851\teval-rmse:0.82567\n",
      "[150]\ttrain-rmse:0.85486\teval-rmse:0.82511\n",
      "[200]\ttrain-rmse:0.85207\teval-rmse:0.82479\n",
      "[250]\ttrain-rmse:0.84889\teval-rmse:0.82461\n",
      "[258]\ttrain-rmse:0.84841\teval-rmse:0.82461\n",
      "--------------------------------------------------\n",
      "xgboost training fold 4\n",
      "[0]\ttrain-rmse:0.85311\teval-rmse:0.90531\n",
      "[50]\ttrain-rmse:0.84561\teval-rmse:0.90110\n",
      "[100]\ttrain-rmse:0.84128\teval-rmse:0.90012\n",
      "[150]\ttrain-rmse:0.83770\teval-rmse:0.89963\n",
      "[190]\ttrain-rmse:0.83527\teval-rmse:0.89943\n",
      "--------------------------------------------------\n",
      "xgboost training fold 5\n",
      "[0]\ttrain-rmse:0.86914\teval-rmse:0.84208\n",
      "[50]\ttrain-rmse:0.86052\teval-rmse:0.83795\n",
      "[100]\ttrain-rmse:0.85526\teval-rmse:0.83728\n",
      "[150]\ttrain-rmse:0.85050\teval-rmse:0.83703\n",
      "[158]\ttrain-rmse:0.84998\teval-rmse:0.83702\n",
      "xgboost our out of folds CV r2_score is 0.015012677830952392\n",
      "--------------------------------------------------\n",
      "catboost training fold 1\n",
      "0:\tlearn: 0.8667774\ttest: 0.8523633\tbest: 0.8523633 (0)\ttotal: 617ms\tremaining: 25m 41s\n",
      "50:\tlearn: 0.8624920\ttest: 0.8488189\tbest: 0.8488189 (50)\ttotal: 24.4s\tremaining: 19m 30s\n",
      "100:\tlearn: 0.8605474\ttest: 0.8479454\tbest: 0.8479454 (100)\ttotal: 47s\tremaining: 18m 37s\n",
      "150:\tlearn: 0.8585347\ttest: 0.8475297\tbest: 0.8475297 (150)\ttotal: 1m 9s\tremaining: 17m 55s\n",
      "200:\tlearn: 0.8570847\ttest: 0.8471652\tbest: 0.8471652 (200)\ttotal: 1m 32s\tremaining: 17m 32s\n",
      "250:\tlearn: 0.8555306\ttest: 0.8469164\tbest: 0.8469164 (250)\ttotal: 1m 55s\tremaining: 17m 12s\n",
      "300:\tlearn: 0.8542862\ttest: 0.8467807\tbest: 0.8467619 (295)\ttotal: 2m 18s\tremaining: 16m 49s\n",
      "Stopped by overfitting detector  (10 iterations wait)\n",
      "\n",
      "bestTest = 0.8467619319\n",
      "bestIteration = 295\n",
      "\n",
      "Shrink model to first 296 iterations.\n",
      "--------------------------------------------------\n",
      "catboost training fold 2\n",
      "0:\tlearn: 0.8583153\ttest: 0.8859835\tbest: 0.8859835 (0)\ttotal: 559ms\tremaining: 23m 18s\n",
      "50:\tlearn: 0.8541192\ttest: 0.8821094\tbest: 0.8821094 (50)\ttotal: 24.6s\tremaining: 19m 40s\n",
      "100:\tlearn: 0.8522650\ttest: 0.8810632\tbest: 0.8810632 (100)\ttotal: 47.7s\tremaining: 18m 53s\n",
      "150:\tlearn: 0.8503973\ttest: 0.8806701\tbest: 0.8806418 (148)\ttotal: 1m 10s\tremaining: 18m 17s\n",
      "Stopped by overfitting detector  (10 iterations wait)\n",
      "\n",
      "bestTest = 0.8805231773\n",
      "bestIteration = 163\n",
      "\n",
      "Shrink model to first 164 iterations.\n",
      "--------------------------------------------------\n",
      "catboost training fold 3\n",
      "0:\tlearn: 0.8718231\ttest: 0.8315468\tbest: 0.8315468 (0)\ttotal: 577ms\tremaining: 24m 1s\n",
      "50:\tlearn: 0.8677311\ttest: 0.8276938\tbest: 0.8276938 (50)\ttotal: 24.6s\tremaining: 19m 39s\n",
      "100:\tlearn: 0.8658384\ttest: 0.8266658\tbest: 0.8266658 (100)\ttotal: 47.8s\tremaining: 18m 56s\n",
      "150:\tlearn: 0.8644402\ttest: 0.8260108\tbest: 0.8260108 (150)\ttotal: 1m 11s\tremaining: 18m 27s\n",
      "200:\tlearn: 0.8629518\ttest: 0.8255568\tbest: 0.8255531 (199)\ttotal: 1m 34s\tremaining: 17m 57s\n",
      "250:\tlearn: 0.8617366\ttest: 0.8251891\tbest: 0.8251846 (249)\ttotal: 1m 57s\tremaining: 17m 32s\n",
      "300:\tlearn: 0.8605324\ttest: 0.8249010\tbest: 0.8249010 (300)\ttotal: 2m 19s\tremaining: 17m 1s\n",
      "350:\tlearn: 0.8594604\ttest: 0.8246782\tbest: 0.8246782 (350)\ttotal: 2m 43s\tremaining: 16m 38s\n",
      "400:\tlearn: 0.8585970\ttest: 0.8244905\tbest: 0.8244905 (400)\ttotal: 3m 5s\tremaining: 16m 10s\n",
      "450:\tlearn: 0.8577013\ttest: 0.8243424\tbest: 0.8243424 (450)\ttotal: 3m 27s\tremaining: 15m 43s\n",
      "500:\tlearn: 0.8567745\ttest: 0.8242089\tbest: 0.8242089 (500)\ttotal: 3m 50s\tremaining: 15m 18s\n",
      "Stopped by overfitting detector  (10 iterations wait)\n",
      "\n",
      "bestTest = 0.8241849603\n",
      "bestIteration = 513\n",
      "\n",
      "Shrink model to first 514 iterations.\n",
      "--------------------------------------------------\n",
      "catboost training fold 4\n",
      "0:\tlearn: 0.8532361\ttest: 0.9053744\tbest: 0.9053744 (0)\ttotal: 587ms\tremaining: 24m 26s\n",
      "50:\tlearn: 0.8490163\ttest: 0.9019652\tbest: 0.9019652 (50)\ttotal: 24.1s\tremaining: 19m 15s\n",
      "100:\tlearn: 0.8473557\ttest: 0.9009204\tbest: 0.9009204 (100)\ttotal: 47s\tremaining: 18m 35s\n",
      "150:\tlearn: 0.8458765\ttest: 0.9003902\tbest: 0.9003902 (150)\ttotal: 1m 9s\tremaining: 18m 8s\n",
      "200:\tlearn: 0.8446616\ttest: 0.9000022\tbest: 0.9000008 (199)\ttotal: 1m 32s\tremaining: 17m 38s\n",
      "250:\tlearn: 0.8436012\ttest: 0.8997052\tbest: 0.8997052 (250)\ttotal: 1m 55s\tremaining: 17m 17s\n",
      "300:\tlearn: 0.8424519\ttest: 0.8995349\tbest: 0.8995305 (295)\ttotal: 2m 17s\tremaining: 16m 47s\n",
      "350:\tlearn: 0.8415562\ttest: 0.8993543\tbest: 0.8993543 (350)\ttotal: 2m 39s\tremaining: 16m 19s\n",
      "400:\tlearn: 0.8406479\ttest: 0.8991968\tbest: 0.8991968 (400)\ttotal: 3m 2s\tremaining: 15m 53s\n",
      "450:\tlearn: 0.8396635\ttest: 0.8991229\tbest: 0.8991195 (442)\ttotal: 3m 24s\tremaining: 15m 28s\n",
      "Stopped by overfitting detector  (10 iterations wait)\n",
      "\n",
      "bestTest = 0.8990494186\n",
      "bestIteration = 480\n",
      "\n",
      "Shrink model to first 481 iterations.\n",
      "--------------------------------------------------\n",
      "catboost training fold 5\n",
      "0:\tlearn: 0.8692745\ttest: 0.8421640\tbest: 0.8421640 (0)\ttotal: 504ms\tremaining: 20m 59s\n",
      "50:\tlearn: 0.8648163\ttest: 0.8389914\tbest: 0.8389914 (50)\ttotal: 24.2s\tremaining: 19m 20s\n",
      "100:\tlearn: 0.8628377\ttest: 0.8382075\tbest: 0.8382075 (100)\ttotal: 47.1s\tremaining: 18m 39s\n",
      "150:\tlearn: 0.8612003\ttest: 0.8377852\tbest: 0.8377852 (150)\ttotal: 1m 10s\tremaining: 18m 13s\n",
      "200:\tlearn: 0.8596381\ttest: 0.8374680\tbest: 0.8374680 (200)\ttotal: 1m 33s\tremaining: 17m 47s\n",
      "250:\tlearn: 0.8581648\ttest: 0.8372290\tbest: 0.8372290 (250)\ttotal: 1m 56s\tremaining: 17m 22s\n",
      "300:\tlearn: 0.8568694\ttest: 0.8370905\tbest: 0.8370864 (297)\ttotal: 2m 19s\tremaining: 16m 56s\n",
      "350:\tlearn: 0.8556012\ttest: 0.8369581\tbest: 0.8369581 (350)\ttotal: 2m 42s\tremaining: 16m 32s\n",
      "Stopped by overfitting detector  (10 iterations wait)\n",
      "\n",
      "bestTest = 0.8369470489\n",
      "bestIteration = 352\n",
      "\n",
      "Shrink model to first 353 iterations.\n",
      "catboost our out of folds CV r2_score is 0.015218155310827819\n"
     ]
    }
   ],
   "source": [
    "for method in CFG.METHOD_LIST:\n",
    "    gradient_boosting_model_cv_training(method, train_pl_df.to_pandas(), CFG.feature_cols)"
   ]
  }
 ],
 "metadata": {
  "kaggle": {
   "accelerator": "none",
   "dataSources": [
    {
     "databundleVersionId": 9849268,
     "sourceId": 84493,
     "sourceType": "competition"
    }
   ],
   "dockerImageVersionId": 30786,
   "isGpuEnabled": false,
   "isInternetEnabled": true,
   "language": "python",
   "sourceType": "notebook"
  },
  "kernelspec": {
   "display_name": "ml-env",
   "language": "python",
   "name": "python3"
  },
  "language_info": {
   "codemirror_mode": {
    "name": "ipython",
    "version": 3
   },
   "file_extension": ".py",
   "mimetype": "text/x-python",
   "name": "python",
   "nbconvert_exporter": "python",
   "pygments_lexer": "ipython3",
   "version": "3.9.21"
  },
  "papermill": {
   "default_parameters": {},
   "duration": 111.173381,
   "end_time": "2024-10-15T08:43:51.309661",
   "environment_variables": {},
   "exception": null,
   "input_path": "__notebook__.ipynb",
   "output_path": "__notebook__.ipynb",
   "parameters": {},
   "start_time": "2024-10-15T08:42:00.136280",
   "version": "2.6.0"
  }
 },
 "nbformat": 4,
 "nbformat_minor": 5
}
