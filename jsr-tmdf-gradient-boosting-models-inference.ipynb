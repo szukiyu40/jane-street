{
 "cells": [
  {
   "cell_type": "markdown",
   "id": "24f47aba",
   "metadata": {
    "papermill": {
     "duration": 0.005398,
     "end_time": "2024-10-14T21:43:26.999793",
     "exception": false,
     "start_time": "2024-10-14T21:43:26.994395",
     "status": "completed"
    },
    "tags": []
   },
   "source": [
    "# Overview\n",
    "This notebook is for performing inference using a model trained on [[JSR-TMDF] Gradient Boosting Models (Training)](https://www.kaggle.com/code/takaito/jsr-tmdf-gradient-boosting-models-training). Please refer to [[JSR-TMDF] Gradient Boosting Models (Training)](https://www.kaggle.com/code/takaito/jsr-tmdf-gradient-boosting-models-training) for the training.\n",
    "\n"
   ]
  },
  {
   "cell_type": "markdown",
   "id": "812b4c11",
   "metadata": {
    "papermill": {
     "duration": 0.005079,
     "end_time": "2024-10-14T21:43:27.010077",
     "exception": false,
     "start_time": "2024-10-14T21:43:27.004998",
     "status": "completed"
    },
    "tags": []
   },
   "source": [
    "To be updated!! (I plan to add more hints if the number of votes increases.)"
   ]
  },
  {
   "cell_type": "code",
   "execution_count": 1,
   "id": "daa3bd9a",
   "metadata": {
    "execution": {
     "iopub.execute_input": "2024-10-14T21:43:27.021709Z",
     "iopub.status.busy": "2024-10-14T21:43:27.021257Z",
     "iopub.status.idle": "2024-10-14T21:43:35.145369Z",
     "shell.execute_reply": "2024-10-14T21:43:35.144157Z"
    },
    "papermill": {
     "duration": 8.133185,
     "end_time": "2024-10-14T21:43:35.148117",
     "exception": false,
     "start_time": "2024-10-14T21:43:27.014932",
     "status": "completed"
    },
    "tags": []
   },
   "outputs": [],
   "source": [
    "# ====================================================\n",
    "# Library\n",
    "# ====================================================\n",
    "import os\n",
    "import gc\n",
    "import warnings\n",
    "warnings.filterwarnings('ignore')\n",
    "import random\n",
    "import scipy as sp\n",
    "import numpy as np\n",
    "import pandas as pd\n",
    "import polars as pl\n",
    "from glob import glob\n",
    "from pathlib import Path\n",
    "import joblib\n",
    "import pickle\n",
    "import itertools\n",
    "from tqdm.auto import tqdm\n",
    "\n",
    "import torch\n",
    "from sklearn.model_selection import KFold, StratifiedKFold, train_test_split, GroupKFold\n",
    "from sklearn.metrics import log_loss, roc_auc_score, matthews_corrcoef, f1_score\n",
    "from sklearn.metrics import mean_squared_error, r2_score\n",
    "from sklearn.preprocessing import LabelEncoder\n",
    "import lightgbm as lgb\n",
    "import xgboost as xgb\n",
    "from catboost import Pool, CatBoostRegressor, CatBoostClassifier"
   ]
  },
  {
   "cell_type": "code",
   "execution_count": 2,
   "id": "0877e1ee",
   "metadata": {
    "execution": {
     "iopub.execute_input": "2024-10-14T21:43:35.160218Z",
     "iopub.status.busy": "2024-10-14T21:43:35.159521Z",
     "iopub.status.idle": "2024-10-14T21:43:35.371923Z",
     "shell.execute_reply": "2024-10-14T21:43:35.370916Z"
    },
    "papermill": {
     "duration": 0.221424,
     "end_time": "2024-10-14T21:43:35.374670",
     "exception": false,
     "start_time": "2024-10-14T21:43:35.153246",
     "status": "completed"
    },
    "tags": []
   },
   "outputs": [],
   "source": [
    "import kaggle_evaluation.jane_street_inference_server"
   ]
  },
  {
   "cell_type": "code",
   "execution_count": 3,
   "id": "400ff737",
   "metadata": {
    "execution": {
     "iopub.execute_input": "2024-10-14T21:43:35.386817Z",
     "iopub.status.busy": "2024-10-14T21:43:35.385760Z",
     "iopub.status.idle": "2024-10-14T21:43:35.393671Z",
     "shell.execute_reply": "2024-10-14T21:43:35.392423Z"
    },
    "papermill": {
     "duration": 0.016659,
     "end_time": "2024-10-14T21:43:35.396250",
     "exception": false,
     "start_time": "2024-10-14T21:43:35.379591",
     "status": "completed"
    },
    "tags": []
   },
   "outputs": [],
   "source": [
    "# ====================================================\n",
    "# Configurations\n",
    "# ====================================================\n",
    "class CFG:\n",
    "    VER = 1\n",
    "    AUTHOR = 'szukiyu'\n",
    "    COMPETITION = 'jane-street-real-time-market-data-forecasting'\n",
    "    DATA_PATH = Path('/kaggle/input/jane-street-real-time-market-data-forecasting')\n",
    "    OOF_DATA_PATH = Path('./oof')\n",
    "    MODEL_DATA_PATH = Path('./models')\n",
    "    METHOD_LIST = ['lightgbm', 'xgboost', 'catboost']\n",
    "    USE_GPU = torch.cuda.is_available()\n",
    "    SEED = 42\n",
    "    N_SPLIT = 5\n",
    "    target_col = 'responder_6'\n",
    "    metric = 'r2_score'\n",
    "    metric_maximize_flag = True\n",
    "    "
   ]
  },
  {
   "cell_type": "code",
   "execution_count": 4,
   "id": "cab7c40d",
   "metadata": {
    "execution": {
     "iopub.execute_input": "2024-10-14T21:43:35.407882Z",
     "iopub.status.busy": "2024-10-14T21:43:35.407428Z",
     "iopub.status.idle": "2024-10-14T21:43:35.413871Z",
     "shell.execute_reply": "2024-10-14T21:43:35.412464Z"
    },
    "papermill": {
     "duration": 0.015723,
     "end_time": "2024-10-14T21:43:35.416840",
     "exception": false,
     "start_time": "2024-10-14T21:43:35.401117",
     "status": "completed"
    },
    "tags": []
   },
   "outputs": [],
   "source": [
    "# ====================================================\n",
    "# Seed everything\n",
    "# ====================================================\n",
    "def seed_everything(seed):\n",
    "    random.seed(seed)\n",
    "    np.random.seed(seed)\n",
    "    os.environ['PYTHONHASHSEED'] = str(seed)\n",
    "seed_everything(CFG.SEED)"
   ]
  },
  {
   "cell_type": "code",
   "execution_count": 5,
   "id": "dc02b650",
   "metadata": {
    "execution": {
     "iopub.execute_input": "2024-10-14T21:43:35.428744Z",
     "iopub.status.busy": "2024-10-14T21:43:35.428308Z",
     "iopub.status.idle": "2024-10-14T21:43:35.434669Z",
     "shell.execute_reply": "2024-10-14T21:43:35.433405Z"
    },
    "papermill": {
     "duration": 0.015597,
     "end_time": "2024-10-14T21:43:35.437343",
     "exception": false,
     "start_time": "2024-10-14T21:43:35.421746",
     "status": "completed"
    },
    "tags": []
   },
   "outputs": [],
   "source": [
    "original_features = ['feature_' + str(x).zfill(2) for x in range(78+1)]"
   ]
  },
  {
   "cell_type": "code",
   "execution_count": 6,
   "id": "dfc48bd1",
   "metadata": {
    "execution": {
     "iopub.execute_input": "2024-10-14T21:43:35.448842Z",
     "iopub.status.busy": "2024-10-14T21:43:35.448379Z",
     "iopub.status.idle": "2024-10-14T21:43:35.662944Z",
     "shell.execute_reply": "2024-10-14T21:43:35.661517Z"
    },
    "papermill": {
     "duration": 0.223694,
     "end_time": "2024-10-14T21:43:35.665870",
     "exception": false,
     "start_time": "2024-10-14T21:43:35.442176",
     "status": "completed"
    },
    "tags": []
   },
   "outputs": [],
   "source": [
    "model_list_dict = {}\n",
    "for method in CFG.METHOD_LIST:\n",
    "    model_list_dict[method] = []\n",
    "    for fold in range(CFG.N_SPLIT):\n",
    "        model_list_dict[method].append(pickle.load(open(f'/kaggle/input/jsr-tmdf-gradient-boosting-models-training/models/{method}_fold{fold+1}_seed{CFG.SEED}_ver{CFG.VER}.pkl', 'rb')))"
   ]
  },
  {
   "cell_type": "code",
   "execution_count": 7,
   "id": "23b483d9",
   "metadata": {
    "execution": {
     "iopub.execute_input": "2024-10-14T21:43:35.677092Z",
     "iopub.status.busy": "2024-10-14T21:43:35.676646Z",
     "iopub.status.idle": "2024-10-14T21:43:35.683397Z",
     "shell.execute_reply": "2024-10-14T21:43:35.682267Z"
    },
    "papermill": {
     "duration": 0.015294,
     "end_time": "2024-10-14T21:43:35.685997",
     "exception": false,
     "start_time": "2024-10-14T21:43:35.670703",
     "status": "completed"
    },
    "tags": []
   },
   "outputs": [],
   "source": [
    "def lightgbm_inference(model, x_test: pd.DataFrame):\n",
    "    return model.predict(x_test)\n",
    "\n",
    "def xgboost_inference(model, x_test: pd.DataFrame):\n",
    "    return model.predict(xgb.DMatrix(x_test))\n",
    "\n",
    "def catboost_inference(model, x_test: pd.DataFrame):\n",
    "    return model.predict(x_test)"
   ]
  },
  {
   "cell_type": "code",
   "execution_count": 8,
   "id": "2880fc8a",
   "metadata": {
    "execution": {
     "iopub.execute_input": "2024-10-14T21:43:35.697385Z",
     "iopub.status.busy": "2024-10-14T21:43:35.696944Z",
     "iopub.status.idle": "2024-10-14T21:43:35.709364Z",
     "shell.execute_reply": "2024-10-14T21:43:35.708208Z"
    },
    "papermill": {
     "duration": 0.021158,
     "end_time": "2024-10-14T21:43:35.711944",
     "exception": false,
     "start_time": "2024-10-14T21:43:35.690786",
     "status": "completed"
    },
    "tags": []
   },
   "outputs": [],
   "source": [
    "lags_ : pl.DataFrame | None = None\n",
    "\n",
    "\n",
    "# Replace this function with your inference code.\n",
    "# You can return either a Pandas or Polars dataframe, though Polars is recommended.\n",
    "# Each batch of predictions (except the very first) must be returned within 10 minutes of the batch features being provided.\n",
    "def predict(test: pl.DataFrame, lags: pl.DataFrame | None) -> pl.DataFrame | pd.DataFrame:\n",
    "    \"\"\"Make a prediction.\"\"\"\n",
    "    # All the responders from the previous day are passed in at time_id == 0. We save them in a global variable for access at every time_id.\n",
    "    # Use them as extra features, if you like.\n",
    "    global lags_\n",
    "    if lags is not None:\n",
    "        lags_ = lags\n",
    "\n",
    "    predictions = test.select(\n",
    "        'row_id',\n",
    "        pl.lit(0.0).alias('responder_6'),\n",
    "    )\n",
    "    \n",
    "    x_test = test[original_features].to_pandas()\n",
    "    pred = []\n",
    "    for method in CFG.METHOD_LIST:\n",
    "        for model in model_list_dict[method]:\n",
    "            if method == 'lightgbm':\n",
    "                pred.append(lightgbm_inference(model, x_test))\n",
    "            if method == 'xgboost':\n",
    "                pred.append(xgboost_inference(model, x_test))\n",
    "            if method == 'catboost':\n",
    "                pred.append(catboost_inference(model, x_test))\n",
    "                \n",
    "    pred = np.mean(pred, axis=0)\n",
    "    \n",
    "    predictions = predictions.with_columns(pl.Series('responder_6', pred.ravel()))\n",
    "\n",
    "    # The predict function must return a DataFrame\n",
    "    assert isinstance(predictions, pl.DataFrame | pd.DataFrame)\n",
    "    # with columns 'row_id', 'responer_6'\n",
    "    assert list(predictions.columns) == ['row_id', 'responder_6']\n",
    "    # and as many rows as the test data.\n",
    "    assert len(predictions) == len(test)\n",
    "\n",
    "    return predictions"
   ]
  },
  {
   "cell_type": "code",
   "execution_count": 9,
   "id": "7f5735bb",
   "metadata": {
    "execution": {
     "iopub.execute_input": "2024-10-14T21:43:35.723761Z",
     "iopub.status.busy": "2024-10-14T21:43:35.722948Z",
     "iopub.status.idle": "2024-10-14T21:43:36.201074Z",
     "shell.execute_reply": "2024-10-14T21:43:36.199859Z"
    },
    "papermill": {
     "duration": 0.486964,
     "end_time": "2024-10-14T21:43:36.203864",
     "exception": false,
     "start_time": "2024-10-14T21:43:35.716900",
     "status": "completed"
    },
    "tags": []
   },
   "outputs": [],
   "source": [
    "inference_server = kaggle_evaluation.jane_street_inference_server.JSInferenceServer(predict)\n",
    "\n",
    "if os.getenv('KAGGLE_IS_COMPETITION_RERUN'):\n",
    "    inference_server.serve()\n",
    "else:\n",
    "    inference_server.run_local_gateway(\n",
    "        (\n",
    "            '/kaggle/input/jane-street-real-time-market-data-forecasting/test.parquet',\n",
    "            '/kaggle/input/jane-street-real-time-market-data-forecasting/lags.parquet',\n",
    "        )\n",
    "    )"
   ]
  },
  {
   "cell_type": "code",
   "execution_count": null,
   "id": "1ffdc69b",
   "metadata": {
    "papermill": {
     "duration": 0.004358,
     "end_time": "2024-10-14T21:43:36.213039",
     "exception": false,
     "start_time": "2024-10-14T21:43:36.208681",
     "status": "completed"
    },
    "tags": []
   },
   "outputs": [],
   "source": []
  }
 ],
 "metadata": {
  "kaggle": {
   "accelerator": "none",
   "dataSources": [
    {
     "databundleVersionId": 9849268,
     "sourceId": 84493,
     "sourceType": "competition"
    },
    {
     "sourceId": 201165605,
     "sourceType": "kernelVersion"
    }
   ],
   "dockerImageVersionId": 30786,
   "isGpuEnabled": false,
   "isInternetEnabled": false,
   "language": "python",
   "sourceType": "notebook"
  },
  "kernelspec": {
   "display_name": "ml-env",
   "language": "python",
   "name": "python3"
  },
  "language_info": {
   "codemirror_mode": {
    "name": "ipython",
    "version": 3
   },
   "file_extension": ".py",
   "mimetype": "text/x-python",
   "name": "python",
   "nbconvert_exporter": "python",
   "pygments_lexer": "ipython3",
   "version": "3.9.21"
  },
  "papermill": {
   "default_parameters": {},
   "duration": 13.7363,
   "end_time": "2024-10-14T21:43:37.542562",
   "environment_variables": {},
   "exception": null,
   "input_path": "__notebook__.ipynb",
   "output_path": "__notebook__.ipynb",
   "parameters": {},
   "start_time": "2024-10-14T21:43:23.806262",
   "version": "2.6.0"
  }
 },
 "nbformat": 4,
 "nbformat_minor": 5
}
