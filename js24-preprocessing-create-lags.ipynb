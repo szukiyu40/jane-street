{
 "cells": [
  {
   "cell_type": "markdown",
   "id": "10cb1725",
   "metadata": {
    "papermill": {
     "duration": 0.004507,
     "end_time": "2024-10-28T10:50:50.680870",
     "exception": false,
     "start_time": "2024-10-28T10:50:50.676363",
     "status": "completed"
    },
    "tags": []
   },
   "source": [
    "# Libraries"
   ]
  },
  {
   "cell_type": "code",
   "execution_count": 1,
   "id": "f62add46",
   "metadata": {
    "execution": {
     "iopub.execute_input": "2024-10-28T10:50:50.690409Z",
     "iopub.status.busy": "2024-10-28T10:50:50.689985Z",
     "iopub.status.idle": "2024-10-28T10:50:53.445438Z",
     "shell.execute_reply": "2024-10-28T10:50:53.444399Z"
    },
    "papermill": {
     "duration": 2.762986,
     "end_time": "2024-10-28T10:50:53.447975",
     "exception": false,
     "start_time": "2024-10-28T10:50:50.684989",
     "status": "completed"
    },
    "tags": []
   },
   "outputs": [],
   "source": [
    "import pandas as pd\n",
    "import polars as pl\n",
    "import numpy as np\n",
    "import gc\n",
    "from matplotlib import pyplot as plt\n",
    "import matplotlib.cm as cm\n",
    "from sklearn.model_selection import StratifiedGroupKFold"
   ]
  },
  {
   "cell_type": "markdown",
   "id": "3c79d340",
   "metadata": {},
   "source": [
    "### setting data path for local developpmnet"
   ]
  },
  {
   "cell_type": "code",
   "execution_count": 2,
   "id": "c849603f",
   "metadata": {},
   "outputs": [],
   "source": [
    "jane_street_real_time_market_data_forecasting_path = '/home/ec2-user/jane_street/data'"
   ]
  },
  {
   "cell_type": "markdown",
   "id": "d88bbf85",
   "metadata": {
    "papermill": {
     "duration": 0.00385,
     "end_time": "2024-10-28T10:50:53.456099",
     "exception": false,
     "start_time": "2024-10-28T10:50:53.452249",
     "status": "completed"
    },
    "tags": []
   },
   "source": [
    "# Configurations"
   ]
  },
  {
   "cell_type": "code",
   "execution_count": 3,
   "id": "95b20029",
   "metadata": {
    "execution": {
     "iopub.execute_input": "2024-10-28T10:50:53.465769Z",
     "iopub.status.busy": "2024-10-28T10:50:53.465156Z",
     "iopub.status.idle": "2024-10-28T10:50:53.471976Z",
     "shell.execute_reply": "2024-10-28T10:50:53.470759Z"
    },
    "papermill": {
     "duration": 0.014164,
     "end_time": "2024-10-28T10:50:53.474208",
     "exception": false,
     "start_time": "2024-10-28T10:50:53.460044",
     "status": "completed"
    },
    "tags": []
   },
   "outputs": [],
   "source": [
    "class CONFIG:\n",
    "    target_col = \"responder_6\"\n",
    "    lag_cols_original = [\"date_id\", \"symbol_id\"] + [f\"responder_{idx}\" for idx in range(9)]\n",
    "    lag_cols_rename = { f\"responder_{idx}\" : f\"responder_{idx}_lag_1\" for idx in range(9)}\n",
    "    valid_ratio = 0.05\n",
    "    start_dt = 1100"
   ]
  },
  {
   "cell_type": "markdown",
   "id": "ac3b364d",
   "metadata": {
    "papermill": {
     "duration": 0.003748,
     "end_time": "2024-10-28T10:50:53.481903",
     "exception": false,
     "start_time": "2024-10-28T10:50:53.478155",
     "status": "completed"
    },
    "tags": []
   },
   "source": [
    "# Load training data"
   ]
  },
  {
   "cell_type": "code",
   "execution_count": 4,
   "id": "107eaeea",
   "metadata": {
    "execution": {
     "iopub.execute_input": "2024-10-28T10:50:53.491659Z",
     "iopub.status.busy": "2024-10-28T10:50:53.491243Z",
     "iopub.status.idle": "2024-10-28T10:50:53.528349Z",
     "shell.execute_reply": "2024-10-28T10:50:53.527277Z"
    },
    "papermill": {
     "duration": 0.04486,
     "end_time": "2024-10-28T10:50:53.530904",
     "exception": false,
     "start_time": "2024-10-28T10:50:53.486044",
     "status": "completed"
    },
    "tags": []
   },
   "outputs": [],
   "source": [
    "# Use last 2 parquets\n",
    "train = pl.scan_parquet(\n",
    "    jane_street_real_time_market_data_forecasting_path+\"/train.parquet\"\n",
    ").select(\n",
    "    pl.int_range(pl.len(), dtype=pl.UInt32).alias(\"id\"),\n",
    "    pl.all(),\n",
    ").with_columns(\n",
    "    (pl.col(CONFIG.target_col)*2).cast(pl.Int32).alias(\"label\"),\n",
    ").filter(\n",
    "    pl.col(\"date_id\").gt(CONFIG.start_dt)\n",
    ")"
   ]
  },
  {
   "cell_type": "markdown",
   "id": "5d6893d5",
   "metadata": {
    "papermill": {
     "duration": 0.003601,
     "end_time": "2024-10-28T10:50:53.538424",
     "exception": false,
     "start_time": "2024-10-28T10:50:53.534823",
     "status": "completed"
    },
    "tags": []
   },
   "source": [
    "# Create Lags data from training data"
   ]
  },
  {
   "cell_type": "code",
   "execution_count": 5,
   "id": "4888f45b",
   "metadata": {
    "execution": {
     "iopub.execute_input": "2024-10-28T10:50:53.547969Z",
     "iopub.status.busy": "2024-10-28T10:50:53.547541Z",
     "iopub.status.idle": "2024-10-28T10:50:53.893220Z",
     "shell.execute_reply": "2024-10-28T10:50:53.892075Z"
    },
    "papermill": {
     "duration": 0.353197,
     "end_time": "2024-10-28T10:50:53.895572",
     "exception": false,
     "start_time": "2024-10-28T10:50:53.542375",
     "status": "completed"
    },
    "tags": []
   },
   "outputs": [
    {
     "data": {
      "text/html": [
       "<h4>NAIVE QUERY PLAN</h4><p>run <b>LazyFrame.show_graph()</b> to see the optimized version</p><?xml version=\"1.0\" encoding=\"UTF-8\" standalone=\"no\"?>\n",
       "<!DOCTYPE svg PUBLIC \"-//W3C//DTD SVG 1.1//EN\"\n",
       " \"http://www.w3.org/Graphics/SVG/1.1/DTD/svg11.dtd\">\n",
       "<!-- Generated by graphviz version 2.50.0 (0)\n",
       " -->\n",
       "<!-- Title: polars_query Pages: 1 -->\n",
       "<svg width=\"2059pt\" height=\"567pt\"\n",
       " viewBox=\"0.00 0.00 2059.00 567.00\" xmlns=\"http://www.w3.org/2000/svg\" xmlns:xlink=\"http://www.w3.org/1999/xlink\">\n",
       "<g id=\"graph0\" class=\"graph\" transform=\"scale(1 1) rotate(0) translate(4 563)\">\n",
       "<title>polars_query</title>\n",
       "<polygon fill=\"white\" stroke=\"transparent\" points=\"-4,4 -4,-563 2055,-563 2055,4 -4,4\"/>\n",
       "<!-- p1 -->\n",
       "<g id=\"node1\" class=\"node\">\n",
       "<title>p1</title>\n",
       "<polygon fill=\"none\" stroke=\"black\" points=\"2051,-559 0,-559 0,-506 2051,-506 2051,-559\"/>\n",
       "<text text-anchor=\"middle\" x=\"1025.5\" y=\"-543.8\" font-family=\"Times,serif\" font-size=\"14.00\">AGG [col(&quot;responder_0_lag_1&quot;).last(), col(&quot;responder_1_lag_1&quot;).last(), col(&quot;responder_2_lag_1&quot;).last(), col(&quot;responder_3_lag_1&quot;).last(), col(&quot;responder_4_lag_1&quot;).last(), col(&quot;responder_5_lag_1&quot;).last(), col(&quot;responder_6_lag_1&quot;).last(), col(&quot;responder_7_lag_1&quot;).last(), col(&quot;responder_8_lag_1&quot;).last()]</text>\n",
       "<text text-anchor=\"middle\" x=\"1025.5\" y=\"-528.8\" font-family=\"Times,serif\" font-size=\"14.00\">BY</text>\n",
       "<text text-anchor=\"middle\" x=\"1025.5\" y=\"-513.8\" font-family=\"Times,serif\" font-size=\"14.00\">[col(&quot;date_id&quot;), col(&quot;symbol_id&quot;)]</text>\n",
       "</g>\n",
       "<!-- p2 -->\n",
       "<g id=\"node2\" class=\"node\">\n",
       "<title>p2</title>\n",
       "<polygon fill=\"none\" stroke=\"black\" points=\"1229.5,-470 821.5,-470 821.5,-434 1229.5,-434 1229.5,-470\"/>\n",
       "<text text-anchor=\"middle\" x=\"1025.5\" y=\"-448.3\" font-family=\"Times,serif\" font-size=\"14.00\">WITH COLUMNS [[(col(&quot;date_id&quot;)) + (1)].alias(&quot;date_id&quot;)]</text>\n",
       "</g>\n",
       "<!-- p1&#45;&#45;p2 -->\n",
       "<g id=\"edge1\" class=\"edge\">\n",
       "<title>p1&#45;&#45;p2</title>\n",
       "<path fill=\"none\" stroke=\"black\" d=\"M1025.5,-505.8C1025.5,-494.17 1025.5,-480.74 1025.5,-470.33\"/>\n",
       "</g>\n",
       "<!-- p3 -->\n",
       "<g id=\"node3\" class=\"node\">\n",
       "<title>p3</title>\n",
       "<polygon fill=\"none\" stroke=\"black\" points=\"1064,-398 987,-398 987,-362 1064,-362 1064,-398\"/>\n",
       "<text text-anchor=\"middle\" x=\"1025.5\" y=\"-376.3\" font-family=\"Times,serif\" font-size=\"14.00\">RENAME</text>\n",
       "</g>\n",
       "<!-- p2&#45;&#45;p3 -->\n",
       "<g id=\"edge2\" class=\"edge\">\n",
       "<title>p2&#45;&#45;p3</title>\n",
       "<path fill=\"none\" stroke=\"black\" d=\"M1025.5,-433.7C1025.5,-422.85 1025.5,-408.92 1025.5,-398.1\"/>\n",
       "</g>\n",
       "<!-- p4 -->\n",
       "<g id=\"node4\" class=\"node\">\n",
       "<title>p4</title>\n",
       "<polygon fill=\"none\" stroke=\"black\" points=\"1060.5,-326 990.5,-326 990.5,-290 1060.5,-290 1060.5,-326\"/>\n",
       "<text text-anchor=\"middle\" x=\"1025.5\" y=\"-304.3\" font-family=\"Times,serif\" font-size=\"14.00\">π 11/11</text>\n",
       "</g>\n",
       "<!-- p3&#45;&#45;p4 -->\n",
       "<g id=\"edge3\" class=\"edge\">\n",
       "<title>p3&#45;&#45;p4</title>\n",
       "<path fill=\"none\" stroke=\"black\" d=\"M1025.5,-361.7C1025.5,-350.85 1025.5,-336.92 1025.5,-326.1\"/>\n",
       "</g>\n",
       "<!-- p5 -->\n",
       "<g id=\"node5\" class=\"node\">\n",
       "<title>p5</title>\n",
       "<polygon fill=\"none\" stroke=\"black\" points=\"1161,-254 890,-254 890,-218 1161,-218 1161,-254\"/>\n",
       "<text text-anchor=\"middle\" x=\"1025.5\" y=\"-232.3\" font-family=\"Times,serif\" font-size=\"14.00\">FILTER BY [(col(&quot;date_id&quot;)) &gt; (1100)]</text>\n",
       "</g>\n",
       "<!-- p4&#45;&#45;p5 -->\n",
       "<g id=\"edge4\" class=\"edge\">\n",
       "<title>p4&#45;&#45;p5</title>\n",
       "<path fill=\"none\" stroke=\"black\" d=\"M1025.5,-289.7C1025.5,-278.85 1025.5,-264.92 1025.5,-254.1\"/>\n",
       "</g>\n",
       "<!-- p6 -->\n",
       "<g id=\"node6\" class=\"node\">\n",
       "<title>p6</title>\n",
       "<polygon fill=\"none\" stroke=\"black\" points=\"1304,-182 747,-182 747,-146 1304,-146 1304,-182\"/>\n",
       "<text text-anchor=\"middle\" x=\"1025.5\" y=\"-160.3\" font-family=\"Times,serif\" font-size=\"14.00\">WITH COLUMNS [[(col(&quot;responder_6&quot;)) * (2.0)].strict_cast(Int32).alias(&quot;label&quot;)]</text>\n",
       "</g>\n",
       "<!-- p5&#45;&#45;p6 -->\n",
       "<g id=\"edge5\" class=\"edge\">\n",
       "<title>p5&#45;&#45;p6</title>\n",
       "<path fill=\"none\" stroke=\"black\" d=\"M1025.5,-217.7C1025.5,-206.85 1025.5,-192.92 1025.5,-182.1\"/>\n",
       "</g>\n",
       "<!-- p7 -->\n",
       "<g id=\"node7\" class=\"node\">\n",
       "<title>p7</title>\n",
       "<polygon fill=\"none\" stroke=\"black\" points=\"1060.5,-110 990.5,-110 990.5,-74 1060.5,-74 1060.5,-110\"/>\n",
       "<text text-anchor=\"middle\" x=\"1025.5\" y=\"-88.3\" font-family=\"Times,serif\" font-size=\"14.00\">π 94/94</text>\n",
       "</g>\n",
       "<!-- p6&#45;&#45;p7 -->\n",
       "<g id=\"edge6\" class=\"edge\">\n",
       "<title>p6&#45;&#45;p7</title>\n",
       "<path fill=\"none\" stroke=\"black\" d=\"M1025.5,-145.7C1025.5,-134.85 1025.5,-120.92 1025.5,-110.1\"/>\n",
       "</g>\n",
       "<!-- p8 -->\n",
       "<g id=\"node8\" class=\"node\">\n",
       "<title>p8</title>\n",
       "<polygon fill=\"none\" stroke=\"black\" points=\"1421,-38 630,-38 630,0 1421,0 1421,-38\"/>\n",
       "<text text-anchor=\"middle\" x=\"1025.5\" y=\"-22.8\" font-family=\"Times,serif\" font-size=\"14.00\">Parquet SCAN [/home/ec2&#45;user/jane_street/data/train.parquet/partition_id=0/part&#45;0.parquet, ... 9 other sources]</text>\n",
       "<text text-anchor=\"middle\" x=\"1025.5\" y=\"-7.8\" font-family=\"Times,serif\" font-size=\"14.00\">π */93;</text>\n",
       "</g>\n",
       "<!-- p7&#45;&#45;p8 -->\n",
       "<g id=\"edge7\" class=\"edge\">\n",
       "<title>p7&#45;&#45;p8</title>\n",
       "<path fill=\"none\" stroke=\"black\" d=\"M1025.5,-73.81C1025.5,-62.98 1025.5,-49.01 1025.5,-38.02\"/>\n",
       "</g>\n",
       "</g>\n",
       "</svg>\n"
      ],
      "text/plain": [
       "<LazyFrame at 0x7F0C50D7D2E0>"
      ]
     },
     "execution_count": 5,
     "metadata": {},
     "output_type": "execute_result"
    }
   ],
   "source": [
    "lags = train.select(pl.col(CONFIG.lag_cols_original))\n",
    "lags = lags.rename(CONFIG.lag_cols_rename)\n",
    "lags = lags.with_columns(\n",
    "    date_id = pl.col('date_id') + 1,  # lagged by 1 day\n",
    "    )\n",
    "lags = lags.group_by([\"date_id\", \"symbol_id\"], maintain_order=True).last()  # pick up last record of previous date\n",
    "lags"
   ]
  },
  {
   "cell_type": "markdown",
   "id": "2114e63c",
   "metadata": {
    "papermill": {
     "duration": 0.003961,
     "end_time": "2024-10-28T10:50:53.904002",
     "exception": false,
     "start_time": "2024-10-28T10:50:53.900041",
     "status": "completed"
    },
    "tags": []
   },
   "source": [
    "# Merge training data and lags data"
   ]
  },
  {
   "cell_type": "code",
   "execution_count": 6,
   "id": "c9be8650",
   "metadata": {
    "execution": {
     "iopub.execute_input": "2024-10-28T10:50:53.915910Z",
     "iopub.status.busy": "2024-10-28T10:50:53.915156Z",
     "iopub.status.idle": "2024-10-28T10:50:53.945165Z",
     "shell.execute_reply": "2024-10-28T10:50:53.944004Z"
    },
    "papermill": {
     "duration": 0.038525,
     "end_time": "2024-10-28T10:50:53.947807",
     "exception": false,
     "start_time": "2024-10-28T10:50:53.909282",
     "status": "completed"
    },
    "tags": []
   },
   "outputs": [
    {
     "data": {
      "text/html": [
       "<h4>NAIVE QUERY PLAN</h4><p>run <b>LazyFrame.show_graph()</b> to see the optimized version</p><?xml version=\"1.0\" encoding=\"UTF-8\" standalone=\"no\"?>\n",
       "<!DOCTYPE svg PUBLIC \"-//W3C//DTD SVG 1.1//EN\"\n",
       " \"http://www.w3.org/Graphics/SVG/1.1/DTD/svg11.dtd\">\n",
       "<!-- Generated by graphviz version 2.50.0 (0)\n",
       " -->\n",
       "<!-- Title: polars_query Pages: 1 -->\n",
       "<svg width=\"2608pt\" height=\"658pt\"\n",
       " viewBox=\"0.00 0.00 2608.00 658.00\" xmlns=\"http://www.w3.org/2000/svg\" xmlns:xlink=\"http://www.w3.org/1999/xlink\">\n",
       "<g id=\"graph0\" class=\"graph\" transform=\"scale(1 1) rotate(0) translate(4 654)\">\n",
       "<title>polars_query</title>\n",
       "<polygon fill=\"white\" stroke=\"transparent\" points=\"-4,4 -4,-654 2604,-654 2604,4 -4,4\"/>\n",
       "<!-- p1 -->\n",
       "<g id=\"node1\" class=\"node\">\n",
       "<title>p1</title>\n",
       "<polygon fill=\"none\" stroke=\"black\" points=\"1127,-650 842,-650 842,-597 1127,-597 1127,-650\"/>\n",
       "<text text-anchor=\"middle\" x=\"984.5\" y=\"-634.8\" font-family=\"Times,serif\" font-size=\"14.00\">JOIN LEFT</text>\n",
       "<text text-anchor=\"middle\" x=\"984.5\" y=\"-619.8\" font-family=\"Times,serif\" font-size=\"14.00\">left: [col(&quot;date_id&quot;), col(&quot;symbol_id&quot;)];</text>\n",
       "<text text-anchor=\"middle\" x=\"984.5\" y=\"-604.8\" font-family=\"Times,serif\" font-size=\"14.00\">right: [col(&quot;date_id&quot;), col(&quot;symbol_id&quot;)]</text>\n",
       "</g>\n",
       "<!-- p2 -->\n",
       "<g id=\"node2\" class=\"node\">\n",
       "<title>p2</title>\n",
       "<polygon fill=\"none\" stroke=\"black\" points=\"531,-552.5 260,-552.5 260,-516.5 531,-516.5 531,-552.5\"/>\n",
       "<text text-anchor=\"middle\" x=\"395.5\" y=\"-530.8\" font-family=\"Times,serif\" font-size=\"14.00\">FILTER BY [(col(&quot;date_id&quot;)) &gt; (1100)]</text>\n",
       "</g>\n",
       "<!-- p1&#45;&#45;p2 -->\n",
       "<g id=\"edge1\" class=\"edge\">\n",
       "<title>p1&#45;&#45;p2</title>\n",
       "<path fill=\"none\" stroke=\"black\" d=\"M841.76,-604.17C754.37,-592.61 640.33,-576.89 539.5,-561 523.07,-558.41 505.63,-555.48 488.75,-552.55\"/>\n",
       "</g>\n",
       "<!-- p6 -->\n",
       "<g id=\"node6\" class=\"node\">\n",
       "<title>p6</title>\n",
       "<polygon fill=\"none\" stroke=\"black\" points=\"2600,-561 549,-561 549,-508 2600,-508 2600,-561\"/>\n",
       "<text text-anchor=\"middle\" x=\"1574.5\" y=\"-545.8\" font-family=\"Times,serif\" font-size=\"14.00\">AGG [col(&quot;responder_0_lag_1&quot;).last(), col(&quot;responder_1_lag_1&quot;).last(), col(&quot;responder_2_lag_1&quot;).last(), col(&quot;responder_3_lag_1&quot;).last(), col(&quot;responder_4_lag_1&quot;).last(), col(&quot;responder_5_lag_1&quot;).last(), col(&quot;responder_6_lag_1&quot;).last(), col(&quot;responder_7_lag_1&quot;).last(), col(&quot;responder_8_lag_1&quot;).last()]</text>\n",
       "<text text-anchor=\"middle\" x=\"1574.5\" y=\"-530.8\" font-family=\"Times,serif\" font-size=\"14.00\">BY</text>\n",
       "<text text-anchor=\"middle\" x=\"1574.5\" y=\"-515.8\" font-family=\"Times,serif\" font-size=\"14.00\">[col(&quot;date_id&quot;), col(&quot;symbol_id&quot;)]</text>\n",
       "</g>\n",
       "<!-- p1&#45;&#45;p6 -->\n",
       "<g id=\"edge5\" class=\"edge\">\n",
       "<title>p1&#45;&#45;p6</title>\n",
       "<path fill=\"none\" stroke=\"black\" d=\"M1127.32,-601.44C1209.85,-589.27 1314.27,-573.87 1401.44,-561.02\"/>\n",
       "</g>\n",
       "<!-- p3 -->\n",
       "<g id=\"node3\" class=\"node\">\n",
       "<title>p3</title>\n",
       "<polygon fill=\"none\" stroke=\"black\" points=\"674,-472 117,-472 117,-436 674,-436 674,-472\"/>\n",
       "<text text-anchor=\"middle\" x=\"395.5\" y=\"-450.3\" font-family=\"Times,serif\" font-size=\"14.00\">WITH COLUMNS [[(col(&quot;responder_6&quot;)) * (2.0)].strict_cast(Int32).alias(&quot;label&quot;)]</text>\n",
       "</g>\n",
       "<!-- p2&#45;&#45;p3 -->\n",
       "<g id=\"edge2\" class=\"edge\">\n",
       "<title>p2&#45;&#45;p3</title>\n",
       "<path fill=\"none\" stroke=\"black\" d=\"M395.5,-516.47C395.5,-503.3 395.5,-485.16 395.5,-472\"/>\n",
       "</g>\n",
       "<!-- p4 -->\n",
       "<g id=\"node4\" class=\"node\">\n",
       "<title>p4</title>\n",
       "<polygon fill=\"none\" stroke=\"black\" points=\"430.5,-400 360.5,-400 360.5,-364 430.5,-364 430.5,-400\"/>\n",
       "<text text-anchor=\"middle\" x=\"395.5\" y=\"-378.3\" font-family=\"Times,serif\" font-size=\"14.00\">π 94/94</text>\n",
       "</g>\n",
       "<!-- p3&#45;&#45;p4 -->\n",
       "<g id=\"edge3\" class=\"edge\">\n",
       "<title>p3&#45;&#45;p4</title>\n",
       "<path fill=\"none\" stroke=\"black\" d=\"M395.5,-435.7C395.5,-424.85 395.5,-410.92 395.5,-400.1\"/>\n",
       "</g>\n",
       "<!-- p5 -->\n",
       "<g id=\"node5\" class=\"node\">\n",
       "<title>p5</title>\n",
       "<polygon fill=\"none\" stroke=\"black\" points=\"791,-328 0,-328 0,-290 791,-290 791,-328\"/>\n",
       "<text text-anchor=\"middle\" x=\"395.5\" y=\"-312.8\" font-family=\"Times,serif\" font-size=\"14.00\">Parquet SCAN [/home/ec2&#45;user/jane_street/data/train.parquet/partition_id=0/part&#45;0.parquet, ... 9 other sources]</text>\n",
       "<text text-anchor=\"middle\" x=\"395.5\" y=\"-297.8\" font-family=\"Times,serif\" font-size=\"14.00\">π */93;</text>\n",
       "</g>\n",
       "<!-- p4&#45;&#45;p5 -->\n",
       "<g id=\"edge4\" class=\"edge\">\n",
       "<title>p4&#45;&#45;p5</title>\n",
       "<path fill=\"none\" stroke=\"black\" d=\"M395.5,-363.81C395.5,-352.98 395.5,-339.01 395.5,-328.02\"/>\n",
       "</g>\n",
       "<!-- p7 -->\n",
       "<g id=\"node7\" class=\"node\">\n",
       "<title>p7</title>\n",
       "<polygon fill=\"none\" stroke=\"black\" points=\"1778.5,-472 1370.5,-472 1370.5,-436 1778.5,-436 1778.5,-472\"/>\n",
       "<text text-anchor=\"middle\" x=\"1574.5\" y=\"-450.3\" font-family=\"Times,serif\" font-size=\"14.00\">WITH COLUMNS [[(col(&quot;date_id&quot;)) + (1)].alias(&quot;date_id&quot;)]</text>\n",
       "</g>\n",
       "<!-- p6&#45;&#45;p7 -->\n",
       "<g id=\"edge6\" class=\"edge\">\n",
       "<title>p6&#45;&#45;p7</title>\n",
       "<path fill=\"none\" stroke=\"black\" d=\"M1574.5,-507.8C1574.5,-496.17 1574.5,-482.74 1574.5,-472.33\"/>\n",
       "</g>\n",
       "<!-- p8 -->\n",
       "<g id=\"node8\" class=\"node\">\n",
       "<title>p8</title>\n",
       "<polygon fill=\"none\" stroke=\"black\" points=\"1613,-400 1536,-400 1536,-364 1613,-364 1613,-400\"/>\n",
       "<text text-anchor=\"middle\" x=\"1574.5\" y=\"-378.3\" font-family=\"Times,serif\" font-size=\"14.00\">RENAME</text>\n",
       "</g>\n",
       "<!-- p7&#45;&#45;p8 -->\n",
       "<g id=\"edge7\" class=\"edge\">\n",
       "<title>p7&#45;&#45;p8</title>\n",
       "<path fill=\"none\" stroke=\"black\" d=\"M1574.5,-435.7C1574.5,-424.85 1574.5,-410.92 1574.5,-400.1\"/>\n",
       "</g>\n",
       "<!-- p9 -->\n",
       "<g id=\"node9\" class=\"node\">\n",
       "<title>p9</title>\n",
       "<polygon fill=\"none\" stroke=\"black\" points=\"1609.5,-327 1539.5,-327 1539.5,-291 1609.5,-291 1609.5,-327\"/>\n",
       "<text text-anchor=\"middle\" x=\"1574.5\" y=\"-305.3\" font-family=\"Times,serif\" font-size=\"14.00\">π 11/11</text>\n",
       "</g>\n",
       "<!-- p8&#45;&#45;p9 -->\n",
       "<g id=\"edge8\" class=\"edge\">\n",
       "<title>p8&#45;&#45;p9</title>\n",
       "<path fill=\"none\" stroke=\"black\" d=\"M1574.5,-363.81C1574.5,-352.65 1574.5,-338.16 1574.5,-327.03\"/>\n",
       "</g>\n",
       "<!-- p10 -->\n",
       "<g id=\"node10\" class=\"node\">\n",
       "<title>p10</title>\n",
       "<polygon fill=\"none\" stroke=\"black\" points=\"1710,-254 1439,-254 1439,-218 1710,-218 1710,-254\"/>\n",
       "<text text-anchor=\"middle\" x=\"1574.5\" y=\"-232.3\" font-family=\"Times,serif\" font-size=\"14.00\">FILTER BY [(col(&quot;date_id&quot;)) &gt; (1100)]</text>\n",
       "</g>\n",
       "<!-- p9&#45;&#45;p10 -->\n",
       "<g id=\"edge9\" class=\"edge\">\n",
       "<title>p9&#45;&#45;p10</title>\n",
       "<path fill=\"none\" stroke=\"black\" d=\"M1574.5,-290.81C1574.5,-279.65 1574.5,-265.16 1574.5,-254.03\"/>\n",
       "</g>\n",
       "<!-- p11 -->\n",
       "<g id=\"node11\" class=\"node\">\n",
       "<title>p11</title>\n",
       "<polygon fill=\"none\" stroke=\"black\" points=\"1853,-182 1296,-182 1296,-146 1853,-146 1853,-182\"/>\n",
       "<text text-anchor=\"middle\" x=\"1574.5\" y=\"-160.3\" font-family=\"Times,serif\" font-size=\"14.00\">WITH COLUMNS [[(col(&quot;responder_6&quot;)) * (2.0)].strict_cast(Int32).alias(&quot;label&quot;)]</text>\n",
       "</g>\n",
       "<!-- p10&#45;&#45;p11 -->\n",
       "<g id=\"edge10\" class=\"edge\">\n",
       "<title>p10&#45;&#45;p11</title>\n",
       "<path fill=\"none\" stroke=\"black\" d=\"M1574.5,-217.7C1574.5,-206.85 1574.5,-192.92 1574.5,-182.1\"/>\n",
       "</g>\n",
       "<!-- p12 -->\n",
       "<g id=\"node12\" class=\"node\">\n",
       "<title>p12</title>\n",
       "<polygon fill=\"none\" stroke=\"black\" points=\"1609.5,-110 1539.5,-110 1539.5,-74 1609.5,-74 1609.5,-110\"/>\n",
       "<text text-anchor=\"middle\" x=\"1574.5\" y=\"-88.3\" font-family=\"Times,serif\" font-size=\"14.00\">π 94/94</text>\n",
       "</g>\n",
       "<!-- p11&#45;&#45;p12 -->\n",
       "<g id=\"edge11\" class=\"edge\">\n",
       "<title>p11&#45;&#45;p12</title>\n",
       "<path fill=\"none\" stroke=\"black\" d=\"M1574.5,-145.7C1574.5,-134.85 1574.5,-120.92 1574.5,-110.1\"/>\n",
       "</g>\n",
       "<!-- p13 -->\n",
       "<g id=\"node13\" class=\"node\">\n",
       "<title>p13</title>\n",
       "<polygon fill=\"none\" stroke=\"black\" points=\"1970,-38 1179,-38 1179,0 1970,0 1970,-38\"/>\n",
       "<text text-anchor=\"middle\" x=\"1574.5\" y=\"-22.8\" font-family=\"Times,serif\" font-size=\"14.00\">Parquet SCAN [/home/ec2&#45;user/jane_street/data/train.parquet/partition_id=0/part&#45;0.parquet, ... 9 other sources]</text>\n",
       "<text text-anchor=\"middle\" x=\"1574.5\" y=\"-7.8\" font-family=\"Times,serif\" font-size=\"14.00\">π */93;</text>\n",
       "</g>\n",
       "<!-- p12&#45;&#45;p13 -->\n",
       "<g id=\"edge12\" class=\"edge\">\n",
       "<title>p12&#45;&#45;p13</title>\n",
       "<path fill=\"none\" stroke=\"black\" d=\"M1574.5,-73.81C1574.5,-62.98 1574.5,-49.01 1574.5,-38.02\"/>\n",
       "</g>\n",
       "</g>\n",
       "</svg>\n"
      ],
      "text/plain": [
       "<LazyFrame at 0x7F0C50D7D760>"
      ]
     },
     "execution_count": 6,
     "metadata": {},
     "output_type": "execute_result"
    }
   ],
   "source": [
    "train = train.join(lags, on=[\"date_id\", \"symbol_id\"],  how=\"left\")\n",
    "train"
   ]
  },
  {
   "cell_type": "markdown",
   "id": "1f54a3c1",
   "metadata": {
    "papermill": {
     "duration": 0.004368,
     "end_time": "2024-10-28T10:50:53.957063",
     "exception": false,
     "start_time": "2024-10-28T10:50:53.952695",
     "status": "completed"
    },
    "tags": []
   },
   "source": [
    "# Split training data and validation data"
   ]
  },
  {
   "cell_type": "code",
   "execution_count": 7,
   "id": "c37b5d81",
   "metadata": {
    "execution": {
     "iopub.execute_input": "2024-10-28T10:50:53.968024Z",
     "iopub.status.busy": "2024-10-28T10:50:53.967611Z",
     "iopub.status.idle": "2024-10-28T10:50:57.287742Z",
     "shell.execute_reply": "2024-10-28T10:50:57.286619Z"
    },
    "papermill": {
     "duration": 3.328535,
     "end_time": "2024-10-28T10:50:57.290290",
     "exception": false,
     "start_time": "2024-10-28T10:50:53.961755",
     "status": "completed"
    },
    "tags": []
   },
   "outputs": [
    {
     "name": "stdout",
     "output_type": "stream",
     "text": [
      "\n",
      " len_train = 22104280\n",
      "\n",
      " len_ofl_mdl = 20999066\n",
      "\n",
      "---> Last offline train date = 1669\n",
      "\n"
     ]
    }
   ],
   "source": [
    "len_train   = train.select(pl.col(\"date_id\")).collect().shape[0]\n",
    "valid_records = int(len_train * CONFIG.valid_ratio)\n",
    "len_ofl_mdl = len_train - valid_records\n",
    "last_tr_dt  = train.select(pl.col(\"date_id\")).collect().row(len_ofl_mdl)[0]\n",
    "\n",
    "print(f\"\\n len_train = {len_train}\")\n",
    "print(f\"\\n len_ofl_mdl = {len_ofl_mdl}\")\n",
    "print(f\"\\n---> Last offline train date = {last_tr_dt}\\n\")\n",
    "\n",
    "training_data = train.filter(pl.col(\"date_id\").le(last_tr_dt))\n",
    "validation_data   = train.filter(pl.col(\"date_id\").gt(last_tr_dt))"
   ]
  },
  {
   "cell_type": "code",
   "execution_count": null,
   "id": "7167d6fa",
   "metadata": {
    "execution": {
     "iopub.execute_input": "2024-10-28T10:50:57.302538Z",
     "iopub.status.busy": "2024-10-28T10:50:57.301604Z",
     "iopub.status.idle": "2024-10-28T10:50:57.328330Z",
     "shell.execute_reply": "2024-10-28T10:50:57.327276Z"
    },
    "papermill": {
     "duration": 0.035098,
     "end_time": "2024-10-28T10:50:57.330787",
     "exception": false,
     "start_time": "2024-10-28T10:50:57.295689",
     "status": "completed"
    },
    "tags": []
   },
   "outputs": [
    {
     "data": {
      "text/html": [
       "<h4>NAIVE QUERY PLAN</h4><p>run <b>LazyFrame.show_graph()</b> to see the optimized version</p><?xml version=\"1.0\" encoding=\"UTF-8\" standalone=\"no\"?>\n",
       "<!DOCTYPE svg PUBLIC \"-//W3C//DTD SVG 1.1//EN\"\n",
       " \"http://www.w3.org/Graphics/SVG/1.1/DTD/svg11.dtd\">\n",
       "<!-- Generated by graphviz version 2.50.0 (0)\n",
       " -->\n",
       "<!-- Title: polars_query Pages: 1 -->\n",
       "<svg width=\"2608pt\" height=\"730pt\"\n",
       " viewBox=\"0.00 0.00 2608.00 730.00\" xmlns=\"http://www.w3.org/2000/svg\" xmlns:xlink=\"http://www.w3.org/1999/xlink\">\n",
       "<g id=\"graph0\" class=\"graph\" transform=\"scale(1 1) rotate(0) translate(4 726)\">\n",
       "<title>polars_query</title>\n",
       "<polygon fill=\"white\" stroke=\"transparent\" points=\"-4,4 -4,-726 2604,-726 2604,4 -4,4\"/>\n",
       "<!-- p1 -->\n",
       "<g id=\"node1\" class=\"node\">\n",
       "<title>p1</title>\n",
       "<polygon fill=\"none\" stroke=\"black\" points=\"1120,-722 849,-722 849,-686 1120,-686 1120,-722\"/>\n",
       "<text text-anchor=\"middle\" x=\"984.5\" y=\"-700.3\" font-family=\"Times,serif\" font-size=\"14.00\">FILTER BY [(col(&quot;date_id&quot;)) &gt; (1669)]</text>\n",
       "</g>\n",
       "<!-- p2 -->\n",
       "<g id=\"node2\" class=\"node\">\n",
       "<title>p2</title>\n",
       "<polygon fill=\"none\" stroke=\"black\" points=\"1127,-650 842,-650 842,-597 1127,-597 1127,-650\"/>\n",
       "<text text-anchor=\"middle\" x=\"984.5\" y=\"-634.8\" font-family=\"Times,serif\" font-size=\"14.00\">JOIN LEFT</text>\n",
       "<text text-anchor=\"middle\" x=\"984.5\" y=\"-619.8\" font-family=\"Times,serif\" font-size=\"14.00\">left: [col(&quot;date_id&quot;), col(&quot;symbol_id&quot;)];</text>\n",
       "<text text-anchor=\"middle\" x=\"984.5\" y=\"-604.8\" font-family=\"Times,serif\" font-size=\"14.00\">right: [col(&quot;date_id&quot;), col(&quot;symbol_id&quot;)]</text>\n",
       "</g>\n",
       "<!-- p1&#45;&#45;p2 -->\n",
       "<g id=\"edge1\" class=\"edge\">\n",
       "<title>p1&#45;&#45;p2</title>\n",
       "<path fill=\"none\" stroke=\"black\" d=\"M984.5,-685.97C984.5,-675.51 984.5,-661.9 984.5,-650.16\"/>\n",
       "</g>\n",
       "<!-- p3 -->\n",
       "<g id=\"node3\" class=\"node\">\n",
       "<title>p3</title>\n",
       "<polygon fill=\"none\" stroke=\"black\" points=\"531,-552.5 260,-552.5 260,-516.5 531,-516.5 531,-552.5\"/>\n",
       "<text text-anchor=\"middle\" x=\"395.5\" y=\"-530.8\" font-family=\"Times,serif\" font-size=\"14.00\">FILTER BY [(col(&quot;date_id&quot;)) &gt; (1100)]</text>\n",
       "</g>\n",
       "<!-- p2&#45;&#45;p3 -->\n",
       "<g id=\"edge2\" class=\"edge\">\n",
       "<title>p2&#45;&#45;p3</title>\n",
       "<path fill=\"none\" stroke=\"black\" d=\"M841.76,-604.17C754.37,-592.61 640.33,-576.89 539.5,-561 523.07,-558.41 505.63,-555.48 488.75,-552.55\"/>\n",
       "</g>\n",
       "<!-- p7 -->\n",
       "<g id=\"node7\" class=\"node\">\n",
       "<title>p7</title>\n",
       "<polygon fill=\"none\" stroke=\"black\" points=\"2600,-561 549,-561 549,-508 2600,-508 2600,-561\"/>\n",
       "<text text-anchor=\"middle\" x=\"1574.5\" y=\"-545.8\" font-family=\"Times,serif\" font-size=\"14.00\">AGG [col(&quot;responder_0_lag_1&quot;).last(), col(&quot;responder_1_lag_1&quot;).last(), col(&quot;responder_2_lag_1&quot;).last(), col(&quot;responder_3_lag_1&quot;).last(), col(&quot;responder_4_lag_1&quot;).last(), col(&quot;responder_5_lag_1&quot;).last(), col(&quot;responder_6_lag_1&quot;).last(), col(&quot;responder_7_lag_1&quot;).last(), col(&quot;responder_8_lag_1&quot;).last()]</text>\n",
       "<text text-anchor=\"middle\" x=\"1574.5\" y=\"-530.8\" font-family=\"Times,serif\" font-size=\"14.00\">BY</text>\n",
       "<text text-anchor=\"middle\" x=\"1574.5\" y=\"-515.8\" font-family=\"Times,serif\" font-size=\"14.00\">[col(&quot;date_id&quot;), col(&quot;symbol_id&quot;)]</text>\n",
       "</g>\n",
       "<!-- p2&#45;&#45;p7 -->\n",
       "<g id=\"edge6\" class=\"edge\">\n",
       "<title>p2&#45;&#45;p7</title>\n",
       "<path fill=\"none\" stroke=\"black\" d=\"M1127.32,-601.44C1209.85,-589.27 1314.27,-573.87 1401.44,-561.02\"/>\n",
       "</g>\n",
       "<!-- p4 -->\n",
       "<g id=\"node4\" class=\"node\">\n",
       "<title>p4</title>\n",
       "<polygon fill=\"none\" stroke=\"black\" points=\"674,-472 117,-472 117,-436 674,-436 674,-472\"/>\n",
       "<text text-anchor=\"middle\" x=\"395.5\" y=\"-450.3\" font-family=\"Times,serif\" font-size=\"14.00\">WITH COLUMNS [[(col(&quot;responder_6&quot;)) * (2.0)].strict_cast(Int32).alias(&quot;label&quot;)]</text>\n",
       "</g>\n",
       "<!-- p3&#45;&#45;p4 -->\n",
       "<g id=\"edge3\" class=\"edge\">\n",
       "<title>p3&#45;&#45;p4</title>\n",
       "<path fill=\"none\" stroke=\"black\" d=\"M395.5,-516.47C395.5,-503.3 395.5,-485.16 395.5,-472\"/>\n",
       "</g>\n",
       "<!-- p5 -->\n",
       "<g id=\"node5\" class=\"node\">\n",
       "<title>p5</title>\n",
       "<polygon fill=\"none\" stroke=\"black\" points=\"430.5,-400 360.5,-400 360.5,-364 430.5,-364 430.5,-400\"/>\n",
       "<text text-anchor=\"middle\" x=\"395.5\" y=\"-378.3\" font-family=\"Times,serif\" font-size=\"14.00\">π 94/94</text>\n",
       "</g>\n",
       "<!-- p4&#45;&#45;p5 -->\n",
       "<g id=\"edge4\" class=\"edge\">\n",
       "<title>p4&#45;&#45;p5</title>\n",
       "<path fill=\"none\" stroke=\"black\" d=\"M395.5,-435.7C395.5,-424.85 395.5,-410.92 395.5,-400.1\"/>\n",
       "</g>\n",
       "<!-- p6 -->\n",
       "<g id=\"node6\" class=\"node\">\n",
       "<title>p6</title>\n",
       "<polygon fill=\"none\" stroke=\"black\" points=\"791,-328 0,-328 0,-290 791,-290 791,-328\"/>\n",
       "<text text-anchor=\"middle\" x=\"395.5\" y=\"-312.8\" font-family=\"Times,serif\" font-size=\"14.00\">Parquet SCAN [/home/ec2&#45;user/jane_street/data/train.parquet/partition_id=0/part&#45;0.parquet, ... 9 other sources]</text>\n",
       "<text text-anchor=\"middle\" x=\"395.5\" y=\"-297.8\" font-family=\"Times,serif\" font-size=\"14.00\">π */93;</text>\n",
       "</g>\n",
       "<!-- p5&#45;&#45;p6 -->\n",
       "<g id=\"edge5\" class=\"edge\">\n",
       "<title>p5&#45;&#45;p6</title>\n",
       "<path fill=\"none\" stroke=\"black\" d=\"M395.5,-363.81C395.5,-352.98 395.5,-339.01 395.5,-328.02\"/>\n",
       "</g>\n",
       "<!-- p8 -->\n",
       "<g id=\"node8\" class=\"node\">\n",
       "<title>p8</title>\n",
       "<polygon fill=\"none\" stroke=\"black\" points=\"1778.5,-472 1370.5,-472 1370.5,-436 1778.5,-436 1778.5,-472\"/>\n",
       "<text text-anchor=\"middle\" x=\"1574.5\" y=\"-450.3\" font-family=\"Times,serif\" font-size=\"14.00\">WITH COLUMNS [[(col(&quot;date_id&quot;)) + (1)].alias(&quot;date_id&quot;)]</text>\n",
       "</g>\n",
       "<!-- p7&#45;&#45;p8 -->\n",
       "<g id=\"edge7\" class=\"edge\">\n",
       "<title>p7&#45;&#45;p8</title>\n",
       "<path fill=\"none\" stroke=\"black\" d=\"M1574.5,-507.8C1574.5,-496.17 1574.5,-482.74 1574.5,-472.33\"/>\n",
       "</g>\n",
       "<!-- p9 -->\n",
       "<g id=\"node9\" class=\"node\">\n",
       "<title>p9</title>\n",
       "<polygon fill=\"none\" stroke=\"black\" points=\"1613,-400 1536,-400 1536,-364 1613,-364 1613,-400\"/>\n",
       "<text text-anchor=\"middle\" x=\"1574.5\" y=\"-378.3\" font-family=\"Times,serif\" font-size=\"14.00\">RENAME</text>\n",
       "</g>\n",
       "<!-- p8&#45;&#45;p9 -->\n",
       "<g id=\"edge8\" class=\"edge\">\n",
       "<title>p8&#45;&#45;p9</title>\n",
       "<path fill=\"none\" stroke=\"black\" d=\"M1574.5,-435.7C1574.5,-424.85 1574.5,-410.92 1574.5,-400.1\"/>\n",
       "</g>\n",
       "<!-- p10 -->\n",
       "<g id=\"node10\" class=\"node\">\n",
       "<title>p10</title>\n",
       "<polygon fill=\"none\" stroke=\"black\" points=\"1609.5,-327 1539.5,-327 1539.5,-291 1609.5,-291 1609.5,-327\"/>\n",
       "<text text-anchor=\"middle\" x=\"1574.5\" y=\"-305.3\" font-family=\"Times,serif\" font-size=\"14.00\">π 11/11</text>\n",
       "</g>\n",
       "<!-- p9&#45;&#45;p10 -->\n",
       "<g id=\"edge9\" class=\"edge\">\n",
       "<title>p9&#45;&#45;p10</title>\n",
       "<path fill=\"none\" stroke=\"black\" d=\"M1574.5,-363.81C1574.5,-352.65 1574.5,-338.16 1574.5,-327.03\"/>\n",
       "</g>\n",
       "<!-- p11 -->\n",
       "<g id=\"node11\" class=\"node\">\n",
       "<title>p11</title>\n",
       "<polygon fill=\"none\" stroke=\"black\" points=\"1710,-254 1439,-254 1439,-218 1710,-218 1710,-254\"/>\n",
       "<text text-anchor=\"middle\" x=\"1574.5\" y=\"-232.3\" font-family=\"Times,serif\" font-size=\"14.00\">FILTER BY [(col(&quot;date_id&quot;)) &gt; (1100)]</text>\n",
       "</g>\n",
       "<!-- p10&#45;&#45;p11 -->\n",
       "<g id=\"edge10\" class=\"edge\">\n",
       "<title>p10&#45;&#45;p11</title>\n",
       "<path fill=\"none\" stroke=\"black\" d=\"M1574.5,-290.81C1574.5,-279.65 1574.5,-265.16 1574.5,-254.03\"/>\n",
       "</g>\n",
       "<!-- p12 -->\n",
       "<g id=\"node12\" class=\"node\">\n",
       "<title>p12</title>\n",
       "<polygon fill=\"none\" stroke=\"black\" points=\"1853,-182 1296,-182 1296,-146 1853,-146 1853,-182\"/>\n",
       "<text text-anchor=\"middle\" x=\"1574.5\" y=\"-160.3\" font-family=\"Times,serif\" font-size=\"14.00\">WITH COLUMNS [[(col(&quot;responder_6&quot;)) * (2.0)].strict_cast(Int32).alias(&quot;label&quot;)]</text>\n",
       "</g>\n",
       "<!-- p11&#45;&#45;p12 -->\n",
       "<g id=\"edge11\" class=\"edge\">\n",
       "<title>p11&#45;&#45;p12</title>\n",
       "<path fill=\"none\" stroke=\"black\" d=\"M1574.5,-217.7C1574.5,-206.85 1574.5,-192.92 1574.5,-182.1\"/>\n",
       "</g>\n",
       "<!-- p13 -->\n",
       "<g id=\"node13\" class=\"node\">\n",
       "<title>p13</title>\n",
       "<polygon fill=\"none\" stroke=\"black\" points=\"1609.5,-110 1539.5,-110 1539.5,-74 1609.5,-74 1609.5,-110\"/>\n",
       "<text text-anchor=\"middle\" x=\"1574.5\" y=\"-88.3\" font-family=\"Times,serif\" font-size=\"14.00\">π 94/94</text>\n",
       "</g>\n",
       "<!-- p12&#45;&#45;p13 -->\n",
       "<g id=\"edge12\" class=\"edge\">\n",
       "<title>p12&#45;&#45;p13</title>\n",
       "<path fill=\"none\" stroke=\"black\" d=\"M1574.5,-145.7C1574.5,-134.85 1574.5,-120.92 1574.5,-110.1\"/>\n",
       "</g>\n",
       "<!-- p14 -->\n",
       "<g id=\"node14\" class=\"node\">\n",
       "<title>p14</title>\n",
       "<polygon fill=\"none\" stroke=\"black\" points=\"1970,-38 1179,-38 1179,0 1970,0 1970,-38\"/>\n",
       "<text text-anchor=\"middle\" x=\"1574.5\" y=\"-22.8\" font-family=\"Times,serif\" font-size=\"14.00\">Parquet SCAN [/home/ec2&#45;user/jane_street/data/train.parquet/partition_id=0/part&#45;0.parquet, ... 9 other sources]</text>\n",
       "<text text-anchor=\"middle\" x=\"1574.5\" y=\"-7.8\" font-family=\"Times,serif\" font-size=\"14.00\">π */93;</text>\n",
       "</g>\n",
       "<!-- p13&#45;&#45;p14 -->\n",
       "<g id=\"edge13\" class=\"edge\">\n",
       "<title>p13&#45;&#45;p14</title>\n",
       "<path fill=\"none\" stroke=\"black\" d=\"M1574.5,-73.81C1574.5,-62.98 1574.5,-49.01 1574.5,-38.02\"/>\n",
       "</g>\n",
       "</g>\n",
       "</svg>\n"
      ],
      "text/plain": [
       "<LazyFrame at 0x7F0C0527F6A0>"
      ]
     },
     "execution_count": 8,
     "metadata": {},
     "output_type": "execute_result"
    }
   ],
   "source": [
    "validation_data"
   ]
  },
  {
   "cell_type": "markdown",
   "id": "81fe7c1e",
   "metadata": {
    "papermill": {
     "duration": 0.004758,
     "end_time": "2024-10-28T10:50:57.340849",
     "exception": false,
     "start_time": "2024-10-28T10:50:57.336091",
     "status": "completed"
    },
    "tags": []
   },
   "source": [
    "# Save data as parquets"
   ]
  },
  {
   "cell_type": "code",
   "execution_count": 9,
   "id": "6c7b24f5",
   "metadata": {
    "execution": {
     "iopub.execute_input": "2024-10-28T10:50:57.352891Z",
     "iopub.status.busy": "2024-10-28T10:50:57.352024Z",
     "iopub.status.idle": "2024-10-28T10:52:19.675611Z",
     "shell.execute_reply": "2024-10-28T10:52:19.674557Z"
    },
    "papermill": {
     "duration": 82.332599,
     "end_time": "2024-10-28T10:52:19.678428",
     "exception": false,
     "start_time": "2024-10-28T10:50:57.345829",
     "status": "completed"
    },
    "tags": []
   },
   "outputs": [],
   "source": [
    "training_data.collect().\\\n",
    "write_parquet(\n",
    "    f\"training.parquet\", partition_by = \"date_id\",\n",
    ")"
   ]
  },
  {
   "cell_type": "code",
   "execution_count": 10,
   "id": "8dacc686",
   "metadata": {
    "execution": {
     "iopub.execute_input": "2024-10-28T10:52:19.691137Z",
     "iopub.status.busy": "2024-10-28T10:52:19.690690Z",
     "iopub.status.idle": "2024-10-28T10:53:09.731770Z",
     "shell.execute_reply": "2024-10-28T10:53:09.730583Z"
    },
    "papermill": {
     "duration": 50.050795,
     "end_time": "2024-10-28T10:53:09.735054",
     "exception": false,
     "start_time": "2024-10-28T10:52:19.684259",
     "status": "completed"
    },
    "tags": []
   },
   "outputs": [],
   "source": [
    "validation_data.collect().\\\n",
    "write_parquet(\n",
    "    \"validation.parquet\", partition_by = \"date_id\",\n",
    ")"
   ]
  }
 ],
 "metadata": {
  "kaggle": {
   "accelerator": "none",
   "dataSources": [
    {
     "databundleVersionId": 9871156,
     "sourceId": 84493,
     "sourceType": "competition"
    }
   ],
   "dockerImageVersionId": 30786,
   "isGpuEnabled": false,
   "isInternetEnabled": true,
   "language": "python",
   "sourceType": "notebook"
  },
  "kernelspec": {
   "display_name": "ml-env",
   "language": "python",
   "name": "python3"
  },
  "language_info": {
   "codemirror_mode": {
    "name": "ipython",
    "version": 3
   },
   "file_extension": ".py",
   "mimetype": "text/x-python",
   "name": "python",
   "nbconvert_exporter": "python",
   "pygments_lexer": "ipython3",
   "version": "3.9.21"
  },
  "papermill": {
   "default_parameters": {},
   "duration": 144.544038,
   "end_time": "2024-10-28T10:53:12.391324",
   "environment_variables": {},
   "exception": null,
   "input_path": "__notebook__.ipynb",
   "output_path": "__notebook__.ipynb",
   "parameters": {},
   "start_time": "2024-10-28T10:50:47.847286",
   "version": "2.6.0"
  }
 },
 "nbformat": 4,
 "nbformat_minor": 5
}
